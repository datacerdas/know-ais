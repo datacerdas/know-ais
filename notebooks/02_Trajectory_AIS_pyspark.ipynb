{
 "cells": [
  {
   "cell_type": "code",
   "execution_count": 1,
   "id": "eaa6a9aa-6640-4727-878f-89d6b4c646ac",
   "metadata": {},
   "outputs": [
    {
     "name": "stdout",
     "output_type": "stream",
     "text": [
      "+---------+------------------+------------------+--------------------+-----------+------------------+--------------------+----------------+--------------------+------------+-------------------+-------------------+------+-----+----------------+-------------------+--------+------+------------------+------------------+\n",
      "|     mmsi|          latitude|         longitude|         vessel_name|vessel_type|  vessel_type_main|     vessel_type_sub|vessel_type_code|   vessel_type_cargo|vessel_class|      dt_insert_utc|               eeid|length|width|    flag_country|        destination|     eta|source|    H3_int_index_1|    H3_int_index_5|\n",
      "+---------+------------------+------------------+--------------------+-----------+------------------+--------------------+----------------+--------------------+------------+-------------------+-------------------+------+-----+----------------+-------------------+--------+------+------------------+------------------+\n",
      "|272102200| 46.94711333333333|31.992301666666663|               TUMAN|     Diving|              null|                null|            null|                null|           B|2021-06-07 20:33:16|               null|  21.0|  4.0|         Ukraine|               null|    2460| T-AIS|581500913605148671|599511895468146687|\n",
      "|279202423|            44.995| 20.30333333333333|JASTREBAC I + 6 BARZ|      Other|              null|                null|            null|No Additional Inf...|           A|2021-06-07 22:40:02|               null| 190.0| 34.0|          Serbia|           NOVI SAD|    2460| T-AIS|581509709698170879|599508387553607679|\n",
      "|271044251| 40.90073666666667|         27.469625|     ASYAPORT KUMBAG|UNAVAILABLE|               Tug|                null|            null|                null|           A|2021-06-07 22:58:00|               null|   0.0|  0.0|          Turkey|           ASYAPORT| 8090800| T-AIS|581509709698170879|599520264211922943|\n",
      "|538009010|40.849086666666665| 18.90840333333333|              SINGLE|     Tanker|              null|                null|            null|Carrying DG,HS or...|           A|2021-06-07 02:56:00|               null| 184.0| 27.0|Marshall Islands|         FOR ORDERS| 6051600| T-AIS|581509709698170879|599521261718077439|\n",
      "|357224000| 43.19967666666667|          27.79808|       IBRAHIM KONAN|      Cargo|General Cargo Ship|                null|            null|                null|           A|2021-06-07 23:57:23|               null| 109.0| 19.0|          Panama|             BG VAR| 6070300| T-AIS|581509709698170879|599522703753347071|\n",
      "|357224000|43.199693333333336|27.798071666666665|       IBRAHIM KONAN|      Cargo|General Cargo Ship|                null|            null|                null|           A|2021-06-07 22:06:22|               null| 109.0| 19.0|          Panama|             BG VAR| 6070300| T-AIS|581509709698170879|599522703753347071|\n",
      "|207037000| 43.19772666666667|27.892101666666665|        STV KALIAKRA|    Sailing|      Service Ship|       Training Ship|            null|                null|           A|2021-06-07 00:15:37|               null|  54.0|  8.0|        Bulgaria|              VARNA| 7011200| T-AIS|581509709698170879|599522715564507135|\n",
      "|207037000|          43.19767| 27.89207833333333|        STV KALIAKRA|    Sailing|      Service Ship|       Training Ship|            null|                null|           A|2021-06-07 05:03:37|               null|  54.0|  8.0|        Bulgaria|              VARNA| 7011200| T-AIS|581509709698170879|599522715564507135|\n",
      "|219000836|         54.999045|10.504478333333331|       AEROESKOEBING|  Passenger|    Passenger Ship|Passenger Ro Ro C...|            null|                null|           A|2021-06-07 07:36:41|               null|  60.0| 15.0|         Denmark|AEROESK-SVBG. ROUTE|    2460| T-AIS|581514107744681983|599524401339170815|\n",
      "|219000836|55.056666666666665|            10.615|       AEROESKOEBING|  Passenger|    Passenger Ship|Passenger Ro Ro C...|            null|                null|           A|2021-06-07 12:53:49|               null|  60.0| 15.0|         Denmark|AEROESK-SVBG. ROUTE|    2460| T-AIS|581514107744681983|599524406707879935|\n",
      "|235103385| 54.93250166666667|          12.51347|  OFFSHORE WIELINGEN|        HSC|   Offshore Vessel|Offshore Tug Supp...|            null|Carrying DG,HS or...|           A|2021-06-07 17:43:26|               null|  24.0| 10.0|              UK|  KLINTHOLM<>OWF B2| 6071015| T-AIS|581514107744681983|599524473279873023|\n",
      "|211747930|         54.368795|         10.136195|         GRIEP TO II|   Dredging|              null|                null|            null|                null|           A|2021-06-07 21:53:00|               null|  37.0| 12.0|         Germany|      KIEL HOLTENAU|12310000| T-AIS|581514107744681983|599524521598255103|\n",
      "|211747930| 54.36833333333333|10.148333333333332|         GRIEP TO II|   Dredging|              null|                null|            null|                null|           A|2021-06-07 12:06:39|               null|  37.0| 12.0|         Germany|      KIEL HOLTENAU|12310000| T-AIS|581514107744681983|599524521598255103|\n",
      "|211189570| 54.68781166666667| 9.990168333333331|            MANDALAY|    Sailing|              null|                null|            null|                null|           B|2021-06-07 07:25:54|               null|  10.0|  3.0|         Germany|               null|11300000| T-AIS|581514107744681983|599524555957993471|\n",
      "|211187510|         54.244175| 9.614211666666666|       RUESTERBERGEN|      Pilot|              null|                null|            null|                null|           A|2021-06-07 10:05:13|               null|  12.0|  4.0|         Germany|               KIEL|11241500| T-AIS|581514107744681983|599524576359088127|\n",
      "|261183630|          53.41671|14.552843333333334|         WEST ODER 3|      Cargo|              null|                null|            null|No Additional Inf...|           A|2021-06-07 20:35:09|               null|  67.0|  8.0|          Poland|           STETIN\\:| 1101200| T-AIS|581514107744681983|599525103566323711|\n",
      "|211506980|         53.335905|            7.1966|                ORCA|      Other|              null|                null|            null|No Additional Inf...|           A|2021-06-07 08:21:40|               null|  95.0| 10.0|         Germany|                  4| 4100000| T-AIS|581514107744681983|599525535210536959|\n",
      "|219023842| 53.55166666666667|              8.56|        SVITZER VALE|        Tug|              null|                null|            null|                null|           A|2021-06-07 04:29:00|               null|  25.0| 12.0|         Denmark|      BRH DE TOWING|    2460| T-AIS|581514107744681983|599525527694344191|\n",
      "|211187510|       54.24333333|        9.61333333|       RUESTERBERGEN|      Pilot|              null|                null|              50|                null|           A|2021-06-21 02:08:11|6574017732496750592|  12.0|  4.0|         Germany|               KIEL|11241500| S-AIS|581514107744681983|599524576359088127|\n",
      "|211747930|          54.29772|        9.69392333|         GRIEP TO II|   Dredging|              null|                null|              33|                null|           A|2021-06-21 08:36:24|6235302180444636160|  37.0| 12.0|         Germany|RENDSBURG / SAATSEE|12310000| T-AIS|581514107744681983|599524576359088127|\n",
      "+---------+------------------+------------------+--------------------+-----------+------------------+--------------------+----------------+--------------------+------------+-------------------+-------------------+------+-----+----------------+-------------------+--------+------+------------------+------------------+\n",
      "only showing top 20 rows\n",
      "\n",
      "CPU times: user 7.63 ms, sys: 192 µs, total: 7.82 ms\n",
      "Wall time: 18.5 s\n"
     ]
    }
   ],
   "source": [
    "%%time \n",
    "\n",
    "# CPU times: user 4.06 ms, sys: 418 µs, total: 4.48 ms\n",
    "# Wall time: 10.7 s\n",
    "\n",
    "SAVEPATH = \"s3a://team-cedarsdata-582958291898-mvvpu/\"\n",
    "# FILE = \"AIS_sample_baltic_005_202201_202206.parquet\"\n",
    "# FILE = \"AIS_sample_baltic_025_202201_202206.parquet\"\n",
    "# FILE = \"AIS_sample_baltic_005_202201_202206a.parquet\"\n",
    "FILE = \"AIS_sample_baltic_0025_202101_202106.parquet\"\n",
    "ais = spark.read.parquet(SAVEPATH+FILE)\n",
    "ais.show()"
   ]
  },
  {
   "cell_type": "code",
   "execution_count": 2,
   "id": "d0b7b3ee-797e-4f26-b486-beb3311c33fe",
   "metadata": {},
   "outputs": [
    {
     "name": "stdout",
     "output_type": "stream",
     "text": [
      "CPU times: user 2.27 ms, sys: 0 ns, total: 2.27 ms\n",
      "Wall time: 13.7 s\n"
     ]
    },
    {
     "data": {
      "text/plain": [
       "9523854"
      ]
     },
     "execution_count": 2,
     "metadata": {},
     "output_type": "execute_result"
    }
   ],
   "source": [
    "%%time\n",
    "\n",
    "# CPU times: user 2.27 ms, sys: 0 ns, total: 2.27 ms\n",
    "# Wall time: 13.7 s\n",
    "\n",
    "ais.count()"
   ]
  },
  {
   "cell_type": "code",
   "execution_count": 2,
   "id": "a4180079-0519-4473-b3d1-6ef67b6ab122",
   "metadata": {},
   "outputs": [],
   "source": [
    "from datetime import datetime, timedelta\n",
    "\n",
    "from pyspark import SparkContext, SparkConf, SQLContext\n",
    "from pyspark.sql import SparkSession\n",
    "from pyspark.sql.functions import unix_timestamp, from_unixtime, to_date, lit, when, col, ntile, row_number, lag, lead, count, countDistinct\n",
    "from pyspark.sql.functions import array, array_union, explode\n",
    "from pyspark.sql.functions import year, month, dayofmonth, substring\n",
    "from pyspark.sql.functions import col, radians, asin, sin, sqrt, cos, acos\n",
    "import pyspark.sql.functions as f\n",
    "from pyspark.sql.functions import broadcast\n",
    "from pyspark.sql.window import Window\n",
    "from pyspark.sql.types import IntegerType, DoubleType\n",
    "\n",
    "import pandas as pd\n",
    "import numpy as np\n",
    "from shapely.geometry import Point\n",
    "\n",
    "pd.set_option('display.max_rows', 5000)\n",
    "pd.set_option('display.max_columns', 500)\n",
    "\n",
    "import warnings"
   ]
  },
  {
   "cell_type": "code",
   "execution_count": 3,
   "id": "d5ef468b-3edd-4d9f-8628-257f594c6700",
   "metadata": {},
   "outputs": [
    {
     "data": {
      "text/html": [
       "\n",
       "            <div>\n",
       "                <p><b>SparkSession - in-memory</b></p>\n",
       "                \n",
       "        <div>\n",
       "            <p><b>SparkContext</b></p>\n",
       "\n",
       "            <p><a href=\"http://spark-241a458460602734-driver-svc.spark-apps.svc:4040\">Spark UI</a></p>\n",
       "\n",
       "            <dl>\n",
       "              <dt>Version</dt>\n",
       "                <dd><code>v3.0.2</code></dd>\n",
       "              <dt>Master</dt>\n",
       "                <dd><code>k8s://https://10.100.0.1:443</code></dd>\n",
       "              <dt>AppName</dt>\n",
       "                <dd><code>nb-98577d77-06db-4326-8ac3-0cca7287ccf2-89570</code></dd>\n",
       "            </dl>\n",
       "        </div>\n",
       "        \n",
       "            </div>\n",
       "        "
      ],
      "text/plain": [
       "<pyspark.sql.session.SparkSession at 0x7fd5c59ac130>"
      ]
     },
     "execution_count": 3,
     "metadata": {},
     "output_type": "execute_result"
    }
   ],
   "source": [
    "spark"
   ]
  },
  {
   "cell_type": "code",
   "execution_count": 4,
   "id": "751b3e77-052a-4d89-b612-830fbd4e66b0",
   "metadata": {},
   "outputs": [
    {
     "data": {
      "text/html": [
       "\n",
       "            <div>\n",
       "                <p><b>SparkSession - in-memory</b></p>\n",
       "                \n",
       "        <div>\n",
       "            <p><b>SparkContext</b></p>\n",
       "\n",
       "            <p><a href=\"http://spark-241a458460602734-driver-svc.spark-apps.svc:4040\">Spark UI</a></p>\n",
       "\n",
       "            <dl>\n",
       "              <dt>Version</dt>\n",
       "                <dd><code>v3.0.2</code></dd>\n",
       "              <dt>Master</dt>\n",
       "                <dd><code>k8s://https://10.100.0.1:443</code></dd>\n",
       "              <dt>AppName</dt>\n",
       "                <dd><code>nb-98577d77-06db-4326-8ac3-0cca7287ccf2-89570</code></dd>\n",
       "            </dl>\n",
       "        </div>\n",
       "        \n",
       "            </div>\n",
       "        "
      ],
      "text/plain": [
       "<pyspark.sql.session.SparkSession at 0x7fd5c59ac130>"
      ]
     },
     "execution_count": 4,
     "metadata": {},
     "output_type": "execute_result"
    }
   ],
   "source": [
    "spark.conf.set(\"spark.sql.broadcastTimeout\", \"50000\")\n",
    "spark"
   ]
  },
  {
   "cell_type": "code",
   "execution_count": 5,
   "id": "b9fdd3c7-99e0-4b36-88ad-94f707f0d313",
   "metadata": {},
   "outputs": [
    {
     "name": "stdout",
     "output_type": "stream",
     "text": [
      "+----------+--------------------+---------+--------+--------+----+-----+------------------+\n",
      "|Unnamed: 0|                name|  port_id|lat_port|lon_port|iso2| area|          h3_5_int|\n",
      "+----------+--------------------+---------+--------+--------+----+-----+------------------+\n",
      "|         0|            Aamshite|wfp.16923|34.15214|35.62828|  lb|black|599781562506018815|\n",
      "|         0|            Aamshite|wfp.16923|34.15214|35.62828|  lb|black|599781563579760639|\n",
      "|         1|            Aamshite|wfp.16923|34.15214|35.62828|  lb|black|599781564653502463|\n",
      "|         2|            Aamshite|wfp.16923|34.15214|35.62828|  lb|black|599781534588731391|\n",
      "|         3|            Aamshite|wfp.16923|34.15214|35.62828|  lb|black|599781535662473215|\n",
      "|         4|            Aamshite|wfp.16923|34.15214|35.62828|  lb|black|599781550694858751|\n",
      "|         5|            Aamshite|wfp.16923|34.15214|35.62828|  lb|black|599781558211051519|\n",
      "|         1|Aamshite Fuel Oil...|wfp.17891|34.15434|35.63044|  lb|black|599781562506018815|\n",
      "|         6|Aamshite Fuel Oil...|wfp.17891|34.15434|35.63044|  lb|black|599781563579760639|\n",
      "|         7|Aamshite Fuel Oil...|wfp.17891|34.15434|35.63044|  lb|black|599781564653502463|\n",
      "|         8|Aamshite Fuel Oil...|wfp.17891|34.15434|35.63044|  lb|black|599781534588731391|\n",
      "|         9|Aamshite Fuel Oil...|wfp.17891|34.15434|35.63044|  lb|black|599781535662473215|\n",
      "|        10|Aamshite Fuel Oil...|wfp.17891|34.15434|35.63044|  lb|black|599781550694858751|\n",
      "|        11|Aamshite Fuel Oil...|wfp.17891|34.15434|35.63044|  lb|black|599781558211051519|\n",
      "|         2|             Abu Qir|wfp.15978|31.32275|30.07086|  eg|black|600093203185532927|\n",
      "|        12|             Abu Qir|wfp.15978|31.32275|30.07086|  eg|black|600093361025581055|\n",
      "|        13|             Abu Qir|wfp.15978|31.32275|30.07086|  eg|black|600076532269973503|\n",
      "|        14|             Abu Qir|wfp.15978|31.32275|30.07086|  eg|black|600093207480500223|\n",
      "|        15|             Abu Qir|wfp.15978|31.32275|30.07086|  eg|black|600093201038049279|\n",
      "|        16|             Abu Qir|wfp.15978|31.32275|30.07086|  eg|black|600093204259274751|\n",
      "+----------+--------------------+---------+--------+--------+----+-----+------------------+\n",
      "only showing top 20 rows\n",
      "\n",
      "CPU times: user 150 ms, sys: 7.66 ms, total: 158 ms\n",
      "Wall time: 1.27 s\n"
     ]
    }
   ],
   "source": [
    "%%time\n",
    "\n",
    "# CPU times: user 170 ms, sys: 7.87 ms, total: 178 ms\n",
    "# Wall time: 621 ms\n",
    "\n",
    "url = 'https://raw.githubusercontent.com/datacerdas/know-ais/main/platform/src/data/ports_.csv'\n",
    "ports_df = pd.read_csv(url, error_bad_lines=False)\n",
    "\n",
    "ports = spark.createDataFrame(ports_df) \n",
    "ports.show()"
   ]
  },
  {
   "cell_type": "code",
   "execution_count": 6,
   "id": "bd5e3dd0-5cba-49cc-a47d-2e0f144da85d",
   "metadata": {},
   "outputs": [
    {
     "name": "stdout",
     "output_type": "stream",
     "text": [
      "+----+-------------------+-------------------+-----------+-----------+------------------+--------------+----------------+--------------------+----------------+--------------------+------------+------+-----+------------------+--------------------+-------+------+------------------+\n",
      "|mmsi|               eeid|          timestamp|        lon|        lat|       vessel_name|   vessel_type|vessel_type_main|     vessel_type_sub|vessel_type_code|   vessel_type_cargo|vessel_class|length|width|      flag_country|         destination|    eta|source|    H3_int_index_5|\n",
      "+----+-------------------+-------------------+-----------+-----------+------------------+--------------+----------------+--------------------+----------------+--------------------+------------+------+-----+------------------+--------------------+-------+------+------------------+\n",
      "|null|5187421282254041088|2021-06-17 07:33:13|   11.05548|   55.47962|            HJARNO|         Cargo|            null|                null|              70|                null|           A|  15.0|  6.0|           Denmark|             REERSOE|9291000| T-AIS|599524421740265471|\n",
      "|null|5240534909459503104|2021-06-17 07:33:15|   9.577045|63.78160833|      COMMANDER II|Pleasure Craft|            null|                null|              37|                null|           B|  10.0|  4.0|            Norway|                null|   2460| T-AIS|599119923867811839|\n",
      "|null|5030930360717517824|2021-06-17 07:33:15|15.18498667|   54.77099|BALT. ISSLEDOVATEL|         Other|            null|                null|              99|No Additional Inf...|           A|  60.0| 16.0|Russian Federation|            OFFSHORE|6140130| T-AIS|599524986528464895|\n",
      "|null|4802230816848726016|2021-06-17 07:33:15|11.39772167|   58.31499|        AFRODITE I|       Sailing|            null|                null|              36|                null|           B|  14.0|  6.0|          Portugal|                null|   2460| T-AIS|599147690831380479|\n",
      "|null|5199435164812706816|2021-06-17 07:33:16| 7.42317333|63.03132667|            VESTAR|       Fishing|            null|                null|              30|                null|           A|   8.0|  3.0|            Norway|                CH16|   2460| T-AIS|599122972220850175|\n",
      "|null|6560745184094817280|2021-06-17 07:33:16|11.66719833|57.69933667|              GOTA|     Passenger|  Passenger Ship|Passenger Ro Ro C...|              60|                null|           A|  92.0| 14.0|            Sweden| HONO-VARHOLMEN-HONO|   2460| T-AIS|599526657270743039|\n",
      "|null|5546881114076321792|2021-06-17 07:33:17|16.69610667|57.90224833|           SEAESTA|       Sailing|            null|                null|              36|                null|           B|  11.0|  4.0|            Sweden|                null|   2460| T-AIS|599129695992152063|\n",
      "|null|4814378977182221312|2021-06-17 07:33:19| 9.98198667|  56.654045|           GAGGA 2|Pleasure Craft|            null|                null|              37|                null|           B|   7.0|  3.0|           Denmark|                null|   2460| T-AIS|599526361991741439|\n",
      "|null|6052154810664382464|2021-06-17 07:33:21|13.16666667|66.76666667|        TENNHOLMEN|         Other|            null|                null|              90|                null|           A|  10.0|  5.0|            Norway|                null|   2460| S-AIS|599122247445118975|\n",
      "|null|8281816438722649088|2021-06-17 07:33:21|  10.330335|56.97637833|            BALDER|           Tug|             Tug|                null|              52|                null|           A|  10.0|  5.0|           Denmark|PORT SERVICE AALBORG|   2460| T-AIS|599526365212966911|\n",
      "+----+-------------------+-------------------+-----------+-----------+------------------+--------------+----------------+--------------------+----------------+--------------------+------------+------+-----+------------------+--------------------+-------+------+------------------+\n",
      "only showing top 10 rows\n",
      "\n",
      "CPU times: user 13.9 ms, sys: 1.78 ms, total: 15.7 ms\n",
      "Wall time: 26.7 s\n"
     ]
    }
   ],
   "source": [
    "%%time\n",
    "\n",
    "# CPU times: user 12.7 ms, sys: 4.16 ms, total: 16.9 ms\n",
    "# Wall time: 25.7 s\n",
    "\n",
    "ais_00 = ais\\\n",
    "        .select(\n",
    "                'mmsi','eeid',col('dt_insert_utc').alias('timestamp'),col('longitude').alias('lon'),col('latitude').alias('lat'),\n",
    "                'vessel_name','vessel_type','vessel_type_main','vessel_type_sub','vessel_type_code','vessel_type_cargo','vessel_class',\n",
    "                'length','width','flag_country','destination','eta','source','H3_int_index_5'\n",
    "            )\\\n",
    "        .sort('mmsi', 'timestamp')\n",
    "\n",
    "ais_00.show(10)"
   ]
  },
  {
   "cell_type": "code",
   "execution_count": 7,
   "id": "c6a53542-bcf9-4500-bbcd-e69fe0db7b8b",
   "metadata": {},
   "outputs": [
    {
     "data": {
      "text/plain": [
       "DataFrame[mmsi: int, eeid: bigint, timestamp: timestamp, lon: double, lat: double, vessel_name: string, vessel_type: string, vessel_type_main: string, vessel_type_sub: string, vessel_type_code: int, vessel_type_cargo: string, vessel_class: string, length: double, width: double, flag_country: string, destination: string, eta: int, source: string, H3_int_index_5: bigint]"
      ]
     },
     "execution_count": 7,
     "metadata": {},
     "output_type": "execute_result"
    }
   ],
   "source": [
    "ais_00.cache()"
   ]
  },
  {
   "cell_type": "code",
   "execution_count": 8,
   "id": "d64ef427-d080-46fe-82f4-d82523fab214",
   "metadata": {},
   "outputs": [
    {
     "name": "stdout",
     "output_type": "stream",
     "text": [
      "+------------------+----+-------------------+-------------------+-----------+-----------+----------------+--------------+------------------+---------------+----------------+--------------------+------------+------+-----+-------------+------------------+--------+------+----------+---------+-------+--------+--------+----+------+------------------+\n",
      "|    H3_int_index_5|mmsi|               eeid|          timestamp|        lon|        lat|     vessel_name|   vessel_type|  vessel_type_main|vessel_type_sub|vessel_type_code|   vessel_type_cargo|vessel_class|length|width| flag_country|       destination|     eta|source|Unnamed: 0|     name|port_id|lat_port|lon_port|iso2|  area|          h3_5_int|\n",
      "+------------------+----+-------------------+-------------------+-----------+-----------+----------------+--------------+------------------+---------------+----------------+--------------------+------------+------+-----+-------------+------------------+--------+------+----------+---------+-------+--------+--------+----+------+------------------+\n",
      "|599524526966964223|null|6130852355423677440|2021-06-17 07:35:09|   10.21366|54.40095667|       ROCINANTE|       Sailing|              null|           null|              36|                null|           B|  11.0|  4.0|       Norway|              null|    2460| T-AIS|      null|     null|   null|    null|    null|null|  null|              null|\n",
      "|599147995774058495|null|5120105607001054208|2021-06-17 07:47:56|   8.035105|57.97858333|      HAV STREYM|         Cargo|General Cargo Ship|           null|              70|                null|           A|  83.0| 13.0|Faroe Islands|       FREDRIKSTAD| 6172100| T-AIS|      null|     null|   null|    null|    null|null|  null|              null|\n",
      "|599524526966964223|null|5649442802746447872|2021-06-17 07:51:12|    10.3905|54.46904167|      BAUMHOLDER|      Military|              null|           null|              35|                null|           A|  29.0|  6.0|      Germany|              KIEL|    2460| T-AIS|      null|     null|   null|    null|    null|null|  null|              null|\n",
      "|599524526966964223|null|5290716139068427264|2021-06-17 07:53:44|   10.21653|54.40220167|       NORDLICHT|       Sailing|              null|           null|              36|                null|           B|   9.0|  3.0|      Germany|              null|11300000| T-AIS|      null|     null|   null|    null|    null|null|  null|              null|\n",
      "|599525627552333823|null|8037003783912104960|2021-06-17 07:53:55| 6.78782667|  52.247815|     NAUTICTRANS|         Cargo|              null|           null|              79|No Additional Inf...|           A| 110.0| 12.0|  Netherlands|ROTTERDAM<>HENGELO| 1010000| T-AIS|      null|     null|   null|    null|    null|null|  null|              null|\n",
      "|599128724255801343|null|6086884259825174528|2021-06-17 07:55:12|18.11082333|59.43284333|      GULDFISKEN|Pleasure Craft|              null|           null|              37|                null|           B|  12.0|  4.0|       Sweden|              null|    2460| T-AIS|      1703|STOCKHOLM|    985| 59.3179|  18.061|  se|baltic|599128724255801343|\n",
      "|599525627552333823|null|4686217909009433600|2021-06-17 07:55:41|    6.76877|52.25030333|      NOORDERZON|         Cargo|              null|           null|              79|No Additional Inf...|           A|  67.0|  7.0|  Netherlands|            DIEMEN|10151358| T-AIS|      null|     null|   null|    null|    null|null|  null|              null|\n",
      "|599524526966964223|null|7813264162776456192|2021-06-18 23:28:16|   10.21459|   54.40218|           VESTA|Pleasure Craft|              null|           null|              37|                null|           B|  13.0|  4.0|  Netherlands|              null|    2460| T-AIS|      null|     null|   null|    null|    null|null|  null|              null|\n",
      "|599524401339170815|null|5494275323788427264|2021-06-18 23:29:43|    10.4095|    54.8938|           PIANO|       Sailing|              null|           null|              36|                null|           A|  12.0|  4.0|      Germany|              null|    2460| T-AIS|      null|     null|   null|    null|    null|null|  null|              null|\n",
      "|599524526966964223|null|4806825469730663424|2021-06-18 23:31:50|10.25401333|54.46654333|TAUCHER O.WULF 3|           Tug|               Tug|           null|              52|                null|           A|  29.0|  8.0|      Germany|              KIEL| 6190220| T-AIS|      null|     null|   null|    null|    null|null|  null|              null|\n",
      "+------------------+----+-------------------+-------------------+-----------+-----------+----------------+--------------+------------------+---------------+----------------+--------------------+------------+------+-----+-------------+------------------+--------+------+----------+---------+-------+--------+--------+----+------+------------------+\n",
      "only showing top 10 rows\n",
      "\n",
      "CPU times: user 6.47 ms, sys: 295 µs, total: 6.76 ms\n",
      "Wall time: 1min 7s\n"
     ]
    }
   ],
   "source": [
    "%%time\n",
    "\n",
    "# CPU times: user 11 ms, sys: 0 ns, total: 11 ms\n",
    "# Wall time: 1min 22s\n",
    "\n",
    "ais_01_ports = ais_00\\\n",
    "                    .join(\n",
    "                        ports\\\n",
    "                          .withColumn('H3_int_index_5', col('h3_5_int'))\n",
    "                        , ['H3_int_index_5'], 'left'\n",
    "                    )\n",
    "\n",
    "ais_01_ports.show(10)"
   ]
  },
  {
   "cell_type": "code",
   "execution_count": 9,
   "id": "a70a2d43-f4db-409b-b37c-f01cf15ca311",
   "metadata": {},
   "outputs": [
    {
     "data": {
      "text/plain": [
       "DataFrame[H3_int_index_5: bigint, mmsi: int, eeid: bigint, timestamp: timestamp, lon: double, lat: double, vessel_name: string, vessel_type: string, vessel_type_main: string, vessel_type_sub: string, vessel_type_code: int, vessel_type_cargo: string, vessel_class: string, length: double, width: double, flag_country: string, destination: string, eta: int, source: string, Unnamed: 0: bigint, name: string, port_id: string, lat_port: double, lon_port: double, iso2: string, area: string, h3_5_int: bigint]"
      ]
     },
     "execution_count": 9,
     "metadata": {},
     "output_type": "execute_result"
    }
   ],
   "source": [
    "ais_01_ports.cache()"
   ]
  },
  {
   "cell_type": "code",
   "execution_count": null,
   "id": "bd96ae25-184a-4a24-b004-e588ad32a032",
   "metadata": {},
   "outputs": [],
   "source": [
    "%%time \n",
    "\n",
    "# CPU times: user 28.7 ms, sys: 1.37 ms, total: 30.1 ms\n",
    "# Wall time: 27.5 s\n",
    "\n",
    "ais_01_ports.filter(col('port_id').isNotNull()).count()"
   ]
  },
  {
   "cell_type": "code",
   "execution_count": 10,
   "id": "152b5942-604f-4247-8b9d-f31a20472c16",
   "metadata": {},
   "outputs": [
    {
     "name": "stdout",
     "output_type": "stream",
     "text": [
      "+------------------+----+----+-------------------+------------------+------------------+-----------------+-------------+----------------+---------------+----------------+-----------------+------------+------+-----+------------+-----------+----+------+----------+---------+-------+--------+--------+----+------+------------------+-------+-----------+-----------+-----------+--------+--------+-------------+\n",
      "|    H3_int_index_5|mmsi|eeid|          timestamp|               lon|               lat|      vessel_name|  vessel_type|vessel_type_main|vessel_type_sub|vessel_type_code|vessel_type_cargo|vessel_class|length|width|flag_country|destination| eta|source|Unnamed: 0|     name|port_id|lat_port|lon_port|iso2|  area|          h3_5_int|in_port|lag_in_port|in_port_gap|lag_port_id|port_gap|stop_gap|stop_movement|\n",
      "+------------------+----+----+-------------------+------------------+------------------+-----------------+-------------+----------------+---------------+----------------+-----------------+------------+------+-----+------------+-----------+----+------+----------+---------+-------+--------+--------+----+------+------------------+-------+-----------+-----------+-----------+--------+--------+-------------+\n",
      "|599524487238516735| 148|null|2021-01-01 03:42:40|12.606153333333332| 55.68468833333333|SS MARTHA STEWART|Not Available|            null|           null|            null|             null|           A|  10.0|  5.0|        null|       HOME|2460| T-AIS|       192|KÖPENHAMN|   4305|55.68332| 12.5899|  dk|baltic|599524487238516735|      1|       null|          0|       null|       0|       0|            0|\n",
      "|599524487238516735| 148|null|2021-01-01 22:53:47|         12.606215| 55.68466166666666|      BUOY 59 I R|     Military|            null|           null|            null|             null|           A| 300.0| 20.0|        null|       HOME|2460| T-AIS|       192|KÖPENHAMN|   4305|55.68332| 12.5899|  dk|baltic|599524487238516735|      1|          1|          0|       4305|       0|       0|            0|\n",
      "|599524487238516735| 148|null|2021-01-02 22:34:50|12.606368333333334|         55.684715|SS MARTHA STEWART|     Military|            null|           null|            null|             null|           A| 300.0| 20.0|        null|       HOME|2460| T-AIS|       192|KÖPENHAMN|   4305|55.68332| 12.5899|  dk|baltic|599524487238516735|      1|          1|          0|       4305|       0|       0|            0|\n",
      "|599524487238516735| 148|null|2021-01-03 06:47:19|         12.606155| 55.68470166666667|      BUOY 59 I R|     Military|            null|           null|            null|             null|           A| 300.0| 20.0|        null|       HOME|2460| T-AIS|       192|KÖPENHAMN|   4305|55.68332| 12.5899|  dk|baltic|599524487238516735|      1|          1|          0|       4305|       0|       0|            0|\n",
      "|599524487238516735| 148|null|2021-01-03 09:27:31|12.606111666666669| 55.68469666666667|SS MARTHA STEWART|Not Available|            null|           null|            null|             null|           A|  10.0|  5.0|        null|       HOME|2460| T-AIS|       192|KÖPENHAMN|   4305|55.68332| 12.5899|  dk|baltic|599524487238516735|      1|          1|          0|       4305|       0|       0|            0|\n",
      "|599524487238516735| 148|null|2021-01-04 00:14:37|12.606146666666667| 55.68465833333333|SS MARTHA STEWART|     Military|            null|           null|            null|             null|           A| 300.0| 20.0|        null|       HOME|2460| T-AIS|       192|KÖPENHAMN|   4305|55.68332| 12.5899|  dk|baltic|599524487238516735|      1|          1|          0|       4305|       0|       0|            0|\n",
      "|599524487238516735| 148|null|2021-01-04 16:12:38|12.606616666666667| 55.68463666666667|SS MARTHA STEWART|     Military|            null|           null|            null|             null|           A| 300.0| 20.0|        null|       HOME|2460| T-AIS|       192|KÖPENHAMN|   4305|55.68332| 12.5899|  dk|baltic|599524487238516735|      1|          1|          0|       4305|       0|       0|            0|\n",
      "|599524487238516735| 148|null|2021-01-04 16:36:22|12.606456666666666|55.684338333333336|SS MARTHA STEWART|     Military|            null|           null|            null|             null|           A| 300.0| 20.0|        null|       HOME|2460| T-AIS|       192|KÖPENHAMN|   4305|55.68332| 12.5899|  dk|baltic|599524487238516735|      1|          1|          0|       4305|       0|       0|            0|\n",
      "|599524487238516735| 148|null|2021-01-04 19:27:09|          12.60635|          55.68427|      BUOY 59 I R|Not Available|            null|           null|            null|             null|           A|  10.0|  5.0|        null|       HOME|2460| T-AIS|       192|KÖPENHAMN|   4305|55.68332| 12.5899|  dk|baltic|599524487238516735|      1|          1|          0|       4305|       0|       0|            0|\n",
      "|599524487238516735| 148|null|2021-01-04 23:04:01|12.606598333333332| 55.68450333333333|SS MARTHA STEWART|     Military|            null|           null|            null|             null|           A| 300.0| 20.0|        null|       HOME|2460| T-AIS|       192|KÖPENHAMN|   4305|55.68332| 12.5899|  dk|baltic|599524487238516735|      1|          1|          0|       4305|       0|       0|            0|\n",
      "+------------------+----+----+-------------------+------------------+------------------+-----------------+-------------+----------------+---------------+----------------+-----------------+------------+------+-----+------------+-----------+----+------+----------+---------+-------+--------+--------+----+------+------------------+-------+-----------+-----------+-----------+--------+--------+-------------+\n",
      "only showing top 10 rows\n",
      "\n",
      "CPU times: user 39.5 ms, sys: 12.7 ms, total: 52.2 ms\n",
      "Wall time: 1min 11s\n"
     ]
    }
   ],
   "source": [
    "%%time\n",
    "\n",
    "# CPU times: user 42 ms, sys: 15.5 ms, total: 57.5 ms\n",
    "# Wall time: 29.2 s\n",
    "\n",
    "part = Window.partitionBy('mmsi').orderBy(['timestamp'])\n",
    "part2 = Window.partitionBy('mmsi').orderBy(['timestamp']).rowsBetween(Window.unboundedPreceding, Window.currentRow)\n",
    "\n",
    "ais_02_movement = ais_01_ports\\\n",
    "                    .dropDuplicates(['mmsi','timestamp','lat','lon'])\\\n",
    "                    .withColumn('in_port', when(col('port_id').isNotNull(), 1).otherwise(0))\\\n",
    "                    .withColumn('lag_in_port', f.lag('in_port').over(part) )\\\n",
    "                    .withColumn('in_port_gap', when( col('lag_in_port') != col('in_port'), 1 ).otherwise(0) )\\\n",
    "                    .withColumn('lag_port_id', f.lag('port_id').over(part) )\\\n",
    "                    .withColumn('port_gap', when( col('lag_port_id') != col('port_id'), 1 ).otherwise(0) )\\\n",
    "                    .withColumn('stop_gap', when( ( col('in_port_gap') == 1 ) | ( col('port_gap') == 1 ), 1 ).otherwise(0) )\\\n",
    "                    .withColumn('stop_movement', f.sum('stop_gap').over(part2))\n",
    "\n",
    "ais_02_movement.show(10)"
   ]
  },
  {
   "cell_type": "code",
   "execution_count": 11,
   "id": "ec45457d-1ac0-42f8-87fd-f9d7e404da57",
   "metadata": {},
   "outputs": [
    {
     "data": {
      "text/plain": [
       "DataFrame[H3_int_index_5: bigint, mmsi: int, eeid: bigint, timestamp: timestamp, lon: double, lat: double, vessel_name: string, vessel_type: string, vessel_type_main: string, vessel_type_sub: string, vessel_type_code: int, vessel_type_cargo: string, vessel_class: string, length: double, width: double, flag_country: string, destination: string, eta: int, source: string, Unnamed: 0: bigint, name: string, port_id: string, lat_port: double, lon_port: double, iso2: string, area: string, h3_5_int: bigint, in_port: int, lag_in_port: int, in_port_gap: int, lag_port_id: string, port_gap: int, stop_gap: int, stop_movement: bigint]"
      ]
     },
     "execution_count": 11,
     "metadata": {},
     "output_type": "execute_result"
    }
   ],
   "source": [
    "ais_02_movement.cache()"
   ]
  },
  {
   "cell_type": "code",
   "execution_count": 12,
   "id": "b7c76407-ad38-4c57-822c-ac88a1c09ced",
   "metadata": {},
   "outputs": [
    {
     "name": "stdout",
     "output_type": "stream",
     "text": [
      "+------------------+----+----+-------------------+------------------+------------------+-----------------+-------------+----------------+---------------+----------------+-----------------+------------+------+-----+------------+-----------+----+------+----------+---------+-------+--------+--------+----+------+------------------+-------+-----------+-----------+-----------+--------+--------+-------------+------------------+------------------+-------------------+-------------+------------------+--------+---------+-------------------+-------------------+---------+--------------------+---------+-----------------+--------------------+\n",
      "|    H3_int_index_5|mmsi|eeid|          timestamp|               lon|               lat|      vessel_name|  vessel_type|vessel_type_main|vessel_type_sub|vessel_type_code|vessel_type_cargo|vessel_class|length|width|flag_country|destination| eta|source|Unnamed: 0|     name|port_id|lat_port|lon_port|iso2|  area|          h3_5_int|in_port|lag_in_port|in_port_gap|lag_port_id|port_gap|stop_gap|stop_movement|           lag_lat|           lag_lon|      lag_timestamp|time_interval|time_interval_hour|distance|speed_kmh|    start_timestamp|      end_timestamp|min_speed|           avg_speed|max_speed|     sum_distance|movement_coordinates|\n",
      "+------------------+----+----+-------------------+------------------+------------------+-----------------+-------------+----------------+---------------+----------------+-----------------+------------+------+-----+------------+-----------+----+------+----------+---------+-------+--------+--------+----+------+------------------+-------+-----------+-----------+-----------+--------+--------+-------------+------------------+------------------+-------------------+-------------+------------------+--------+---------+-------------------+-------------------+---------+--------------------+---------+-----------------+--------------------+\n",
      "|599524487238516735| 148|null|2021-01-01 03:42:40|12.606153333333332| 55.68468833333333|SS MARTHA STEWART|Not Available|            null|           null|            null|             null|           A|  10.0|  5.0|        null|       HOME|2460| T-AIS|       192|KÖPENHAMN|   4305|55.68332| 12.5899|  dk|baltic|599524487238516735|      1|       null|          0|       null|       0|       0|            0|              null|              null|               null|         null|              null|    null|     null|2021-01-01 03:42:40|2021-06-11 02:32:28|      0.0|0.005425330812854...|     0.15|6.469999999999939|[[12.606153333333...|\n",
      "|599524487238516735| 148|null|2021-01-01 22:53:47|         12.606215| 55.68466166666666|      BUOY 59 I R|     Military|            null|           null|            null|             null|           A| 300.0| 20.0|        null|       HOME|2460| T-AIS|       192|KÖPENHAMN|   4305|55.68332| 12.5899|  dk|baltic|599524487238516735|      1|          1|          0|       4305|       0|       0|            0| 55.68468833333333|12.606153333333332|2021-01-01 03:42:40|      69067.0|             19.19|     0.0|      0.0|2021-01-01 03:42:40|2021-06-11 02:32:28|      0.0|0.005425330812854...|     0.15|6.469999999999939|[[12.606153333333...|\n",
      "|599524487238516735| 148|null|2021-01-02 22:34:50|12.606368333333334|         55.684715|SS MARTHA STEWART|     Military|            null|           null|            null|             null|           A| 300.0| 20.0|        null|       HOME|2460| T-AIS|       192|KÖPENHAMN|   4305|55.68332| 12.5899|  dk|baltic|599524487238516735|      1|          1|          0|       4305|       0|       0|            0| 55.68466166666666|         12.606215|2021-01-01 22:53:47|      85263.0|             23.68|    0.01|      0.0|2021-01-01 03:42:40|2021-06-11 02:32:28|      0.0|0.005425330812854...|     0.15|6.469999999999939|[[12.606153333333...|\n",
      "|599524487238516735| 148|null|2021-01-03 06:47:19|         12.606155| 55.68470166666667|      BUOY 59 I R|     Military|            null|           null|            null|             null|           A| 300.0| 20.0|        null|       HOME|2460| T-AIS|       192|KÖPENHAMN|   4305|55.68332| 12.5899|  dk|baltic|599524487238516735|      1|          1|          0|       4305|       0|       0|            0|         55.684715|12.606368333333334|2021-01-02 22:34:50|      29549.0|              8.21|    0.01|      0.0|2021-01-01 03:42:40|2021-06-11 02:32:28|      0.0|0.005425330812854...|     0.15|6.469999999999939|[[12.606153333333...|\n",
      "|599524487238516735| 148|null|2021-01-03 09:27:31|12.606111666666669| 55.68469666666667|SS MARTHA STEWART|Not Available|            null|           null|            null|             null|           A|  10.0|  5.0|        null|       HOME|2460| T-AIS|       192|KÖPENHAMN|   4305|55.68332| 12.5899|  dk|baltic|599524487238516735|      1|          1|          0|       4305|       0|       0|            0| 55.68470166666667|         12.606155|2021-01-03 06:47:19|       9612.0|              2.67|     0.0|      0.0|2021-01-01 03:42:40|2021-06-11 02:32:28|      0.0|0.005425330812854...|     0.15|6.469999999999939|[[12.606153333333...|\n",
      "|599524487238516735| 148|null|2021-01-04 00:14:37|12.606146666666667| 55.68465833333333|SS MARTHA STEWART|     Military|            null|           null|            null|             null|           A| 300.0| 20.0|        null|       HOME|2460| T-AIS|       192|KÖPENHAMN|   4305|55.68332| 12.5899|  dk|baltic|599524487238516735|      1|          1|          0|       4305|       0|       0|            0| 55.68469666666667|12.606111666666669|2021-01-03 09:27:31|      53226.0|             14.79|     0.0|      0.0|2021-01-01 03:42:40|2021-06-11 02:32:28|      0.0|0.005425330812854...|     0.15|6.469999999999939|[[12.606153333333...|\n",
      "|599524487238516735| 148|null|2021-01-04 16:12:38|12.606616666666667| 55.68463666666667|SS MARTHA STEWART|     Military|            null|           null|            null|             null|           A| 300.0| 20.0|        null|       HOME|2460| T-AIS|       192|KÖPENHAMN|   4305|55.68332| 12.5899|  dk|baltic|599524487238516735|      1|          1|          0|       4305|       0|       0|            0| 55.68465833333333|12.606146666666667|2021-01-04 00:14:37|      57481.0|             15.97|    0.03|      0.0|2021-01-01 03:42:40|2021-06-11 02:32:28|      0.0|0.005425330812854...|     0.15|6.469999999999939|[[12.606153333333...|\n",
      "|599524487238516735| 148|null|2021-01-04 16:36:22|12.606456666666666|55.684338333333336|SS MARTHA STEWART|     Military|            null|           null|            null|             null|           A| 300.0| 20.0|        null|       HOME|2460| T-AIS|       192|KÖPENHAMN|   4305|55.68332| 12.5899|  dk|baltic|599524487238516735|      1|          1|          0|       4305|       0|       0|            0| 55.68463666666667|12.606616666666667|2021-01-04 16:12:38|       1424.0|               0.4|    0.03|     0.08|2021-01-01 03:42:40|2021-06-11 02:32:28|      0.0|0.005425330812854...|     0.15|6.469999999999939|[[12.606153333333...|\n",
      "|599524487238516735| 148|null|2021-01-04 19:27:09|          12.60635|          55.68427|      BUOY 59 I R|Not Available|            null|           null|            null|             null|           A|  10.0|  5.0|        null|       HOME|2460| T-AIS|       192|KÖPENHAMN|   4305|55.68332| 12.5899|  dk|baltic|599524487238516735|      1|          1|          0|       4305|       0|       0|            0|55.684338333333336|12.606456666666666|2021-01-04 16:36:22|      10247.0|              2.85|    0.01|      0.0|2021-01-01 03:42:40|2021-06-11 02:32:28|      0.0|0.005425330812854...|     0.15|6.469999999999939|[[12.606153333333...|\n",
      "|599524487238516735| 148|null|2021-01-04 23:04:01|12.606598333333332| 55.68450333333333|SS MARTHA STEWART|     Military|            null|           null|            null|             null|           A| 300.0| 20.0|        null|       HOME|2460| T-AIS|       192|KÖPENHAMN|   4305|55.68332| 12.5899|  dk|baltic|599524487238516735|      1|          1|          0|       4305|       0|       0|            0|          55.68427|          12.60635|2021-01-04 19:27:09|      13012.0|              3.61|    0.03|     0.01|2021-01-01 03:42:40|2021-06-11 02:32:28|      0.0|0.005425330812854...|     0.15|6.469999999999939|[[12.606153333333...|\n",
      "+------------------+----+----+-------------------+------------------+------------------+-----------------+-------------+----------------+---------------+----------------+-----------------+------------+------+-----+------------+-----------+----+------+----------+---------+-------+--------+--------+----+------+------------------+-------+-----------+-----------+-----------+--------+--------+-------------+------------------+------------------+-------------------+-------------+------------------+--------+---------+-------------------+-------------------+---------+--------------------+---------+-----------------+--------------------+\n",
      "only showing top 10 rows\n",
      "\n",
      "CPU times: user 62.5 ms, sys: 15.2 ms, total: 77.7 ms\n",
      "Wall time: 36.3 s\n"
     ]
    }
   ],
   "source": [
    "%%time\n",
    "\n",
    "# CPU times: user 61.6 ms, sys: 32.1 ms, total: 93.7 ms\n",
    "# Wall time: 1min 19s\n",
    "\n",
    "part3 = Window.partitionBy(['mmsi','stop_movement']).orderBy(['timestamp'])\n",
    "part4 = Window.partitionBy(['mmsi','stop_movement'])\n",
    "\n",
    "ais_03_movement = ais_02_movement\\\n",
    "                    .withColumn('lag_lat', f.lag('lat').over(part3))\\\n",
    "                    .withColumn('lag_lon', f.lag('lon').over(part3))\\\n",
    "                    .withColumn('lag_timestamp', f.lag('timestamp').over(part3))\\\n",
    "                    .withColumn('time_interval', f.to_timestamp(col('timestamp')).cast('double') - f.to_timestamp(col('lag_timestamp')).cast('double')  )\\\n",
    "                    .withColumn('time_interval_hour', f.round(col('time_interval')/3600, 2) )\\\n",
    "                    .withColumn('distance',  \\\n",
    "                                  f.round( \\\n",
    "                                    6371.0 * f.acos( \\\n",
    "                                        f.cos(f.radians('lat')) * f.cos(f.radians('lag_lat')) \\\n",
    "                                        * f.cos(f.radians('lon') - f.radians('lag_lon')) \\\n",
    "                                        + f.sin(f.radians('lag_lat')) * f.sin(f.radians('lat'))) \\\n",
    "                                  , 2 ) \\\n",
    "                                )\\\n",
    "                    .withColumn('speed_kmh', f.round( col('distance') / (col('time_interval') / 3600) ,2) )\\\n",
    "                    .withColumn('start_timestamp', f.min('timestamp').over(part4) )\\\n",
    "                    .withColumn('end_timestamp', f.max('timestamp').over(part4) )\\\n",
    "                    .withColumn('min_speed', f.min('speed_kmh').over(part4) )\\\n",
    "                    .withColumn('avg_speed', f.avg('speed_kmh').over(part4) )\\\n",
    "                    .withColumn('max_speed', f.max('speed_kmh').over(part4) )\\\n",
    "                    .withColumn('sum_distance', f.sum('distance').over(part4) )\\\n",
    "                    .withColumn('movement_coordinates', f.collect_list(f.array('lon', 'lat')).over(part4) )\n",
    "\n",
    "ais_03_movement.show(10)"
   ]
  },
  {
   "cell_type": "code",
   "execution_count": 13,
   "id": "61e0a783-a4e7-483a-9066-5829ef350dde",
   "metadata": {},
   "outputs": [
    {
     "data": {
      "text/plain": [
       "DataFrame[H3_int_index_5: bigint, mmsi: int, eeid: bigint, timestamp: timestamp, lon: double, lat: double, vessel_name: string, vessel_type: string, vessel_type_main: string, vessel_type_sub: string, vessel_type_code: int, vessel_type_cargo: string, vessel_class: string, length: double, width: double, flag_country: string, destination: string, eta: int, source: string, Unnamed: 0: bigint, name: string, port_id: string, lat_port: double, lon_port: double, iso2: string, area: string, h3_5_int: bigint, in_port: int, lag_in_port: int, in_port_gap: int, lag_port_id: string, port_gap: int, stop_gap: int, stop_movement: bigint, lag_lat: double, lag_lon: double, lag_timestamp: timestamp, time_interval: double, time_interval_hour: double, distance: double, speed_kmh: double, start_timestamp: timestamp, end_timestamp: timestamp, min_speed: double, avg_speed: double, max_speed: double, sum_distance: double, movement_coordinates: array<array<double>>]"
      ]
     },
     "execution_count": 13,
     "metadata": {},
     "output_type": "execute_result"
    }
   ],
   "source": [
    "ais_03_movement.cache()"
   ]
  },
  {
   "cell_type": "code",
   "execution_count": 14,
   "id": "dfa1c8de-49af-4b73-aec0-4a14470b375f",
   "metadata": {},
   "outputs": [
    {
     "name": "stdout",
     "output_type": "stream",
     "text": [
      "+---------+-------------------+------------------+------------------+-----------------+-------------+----------------+---------------+----------------+-----------------+------------+------+-----+------------+-----------+-------+------+----------+---------+--------+--------+----+------------------+-------------+------------------+---------+-------------------+-------------------+---------+--------------------+---------+-----------------+--------------------+\n",
      "|     mmsi|          timestamp|               lon|               lat|      vessel_name|  vessel_type|vessel_type_main|vessel_type_sub|vessel_type_code|vessel_type_cargo|vessel_class|length|width|flag_country|destination|    eta|source|      name|  port_id|lat_port|lon_port|iso2|    H3_int_index_5|time_interval|time_interval_hour|speed_kmh|    start_timestamp|      end_timestamp|min_speed|           avg_speed|max_speed|         distance|movement_coordinates|\n",
      "+---------+-------------------+------------------+------------------+-----------------+-------------+----------------+---------------+----------------+-----------------+------------+------+-----+------------+-----------+-------+------+----------+---------+--------+--------+----+------------------+-------------+------------------+---------+-------------------+-------------------+---------+--------------------+---------+-----------------+--------------------+\n",
      "|      148|2021-01-01 03:42:40|12.606153333333332| 55.68468833333333|SS MARTHA STEWART|Not Available|            null|           null|            null|             null|           A|  10.0|  5.0|        null|       HOME|   2460| T-AIS| KÖPENHAMN|     4305|55.68332| 12.5899|  dk|599524487238516735|         null|              null|     null|2021-01-01 03:42:40|2021-06-11 02:32:28|      0.0|0.005425330812854...|     0.15|6.469999999999939|[[12.606153333333...|\n",
      "|  1344478|2021-06-07 16:12:29|19.069793333333333| 59.71906666666667|      UNAVAILABLE|  UNAVAILABLE|            null|           null|            null|             null|           A|  null| null|        null|       null|   2460| T-AIS|KAPELLSKÄR|    98120|59.71787|19.06685|  se|599128471926472703|         null|              null|     null|2021-06-07 16:12:29|2021-06-07 16:12:29|     null|                null|     null|             null|[[19.069793333333...|\n",
      "|205554000|2021-06-25 13:54:11|       24.23327667|          37.30655|   MINERAL NINGBO|        Cargo|    Bulk Carrier|           null|              70|             null|           A| 292.0| 45.0|     Belgium| DARDANELLD|6260700| T-AIS|      null|     null|    null|    null|null|600095030694117375|         null|              null|     null|2021-06-25 13:54:11|2021-06-27 08:38:01|    10.56|               16.23|     21.9|           509.62|[[24.23327667, 37...|\n",
      "|205554000|2021-06-27 13:36:13|       28.97702333|       40.93833167|   MINERAL NINGBO|        Cargo|    Bulk Carrier|           null|              70|             null|           A| 292.0| 45.0|     Belgium|   BOSPORUS|6271400| T-AIS|   Maltepe|wfp.16448|40.94778|29.10295|  tr|599520329710174207|         null|              null|     null|2021-06-27 13:36:13|2021-06-27 13:36:13|     null|                null|     null|             null|[[28.97702333, 40...|\n",
      "|205554000|2021-06-27 23:40:12|       30.75528167|       42.08638667|   MINERAL NINGBO|        Cargo|    Bulk Carrier|           null|              70|             null|           A| 292.0| 45.0|     Belgium|      TAMAN|6291700| T-AIS|      null|     null|    null|    null|null|599772776076673023|         null|              null|     null|2021-06-27 23:40:12|2021-06-30 07:25:17|     0.06|               7.554|    15.27|595.0699999999999|[[30.75528167, 42...|\n",
      "|207828950|2021-02-17 11:30:32|27.895488333333333|43.196178333333336|            DIANA|      Fishing|            null|           null|            null|             null|           B|  13.0|  3.0|    Bulgaria|       null|   2460| T-AIS|     Varna|wfp.15505|43.19695|27.91235|  bg|599522715564507135|         null|              null|     null|2021-02-17 11:30:32|2021-02-24 18:42:05|      0.0|                 0.0|      0.0|              0.0|[[27.895488333333...|\n",
      "|207828950|2021-02-24 22:14:37| 28.22679833333333| 43.28186333333333|            DIANA|      Fishing|            null|           null|            null|             null|           B|  13.0|  3.0|    Bulgaria|       null|   2460| T-AIS|      null|     null|    null|    null|null|599522714490765311|         null|              null|     null|2021-02-24 22:14:37|2021-02-24 22:14:37|     null|                null|     null|             null|[[28.226798333333...|\n",
      "|207828950|2021-02-27 23:47:03| 27.89549833333333|43.196171666666665|            DIANA|      Fishing|            null|           null|            null|             null|           B|  13.0|  3.0|    Bulgaria|       null|   2460| T-AIS|     Varna|wfp.15505|43.19695|27.91235|  bg|599522715564507135|         null|              null|     null|2021-02-27 23:47:03|2021-03-07 01:18:14|      0.0|0.014000000000000002|     0.05|              0.3|[[27.895498333333...|\n",
      "|207828950|2021-03-08 04:41:08| 28.29973333333333| 43.25185666666667|            DIANA|      Fishing|            null|           null|            null|             null|           B|  13.0|  3.0|    Bulgaria|       null|   2460| T-AIS|      null|     null|    null|    null|null|599522714490765311|         null|              null|     null|2021-03-08 04:41:08|2021-03-08 04:41:08|     null|                null|     null|             null|[[28.299733333333...|\n",
      "|207828950|2021-03-08 14:27:24|28.225236666666667|          43.20274|            DIANA|      Fishing|            null|           null|            null|             null|           B|  13.0|  3.0|    Bulgaria|       null|   2460| T-AIS|     Varna|wfp.15505|43.19695|27.91235|  bg|599522709122056191|         null|              null|     null|2021-03-08 14:27:24|2021-03-19 06:42:34|      0.0|  1.6700000000000002|     4.17|70.92999999999999|[[28.225236666666...|\n",
      "+---------+-------------------+------------------+------------------+-----------------+-------------+----------------+---------------+----------------+-----------------+------------+------+-----+------------+-----------+-------+------+----------+---------+--------+--------+----+------------------+-------------+------------------+---------+-------------------+-------------------+---------+--------------------+---------+-----------------+--------------------+\n",
      "only showing top 10 rows\n",
      "\n",
      "CPU times: user 9.52 ms, sys: 3.93 ms, total: 13.4 ms\n",
      "Wall time: 8.24 s\n"
     ]
    }
   ],
   "source": [
    "%%time\n",
    "\n",
    "# CPU times: user 16.4 ms, sys: 2.35 ms, total: 18.8 ms\n",
    "# Wall time: 6.36 s\n",
    "\n",
    "ais_04_movement = ais_03_movement\\\n",
    "                    .select([\n",
    "                        'mmsi',\n",
    "                        'timestamp',\n",
    "                        'lon',\n",
    "                        'lat',\n",
    "                        'vessel_name',\n",
    "                        'vessel_type',\n",
    "                        'vessel_type_main',\n",
    "                        'vessel_type_sub',\n",
    "                        'vessel_type_code',\n",
    "                        'vessel_type_cargo',\n",
    "                        'vessel_class',\n",
    "                        'length',\n",
    "                        'width',\n",
    "                        'flag_country',\n",
    "                        'destination',\n",
    "                        'eta',\n",
    "                        'source',\n",
    "                        'name',\n",
    "                        'port_id',\n",
    "                        'lat_port',\n",
    "                        'lon_port',\n",
    "                        'iso2',\n",
    "                        'H3_int_index_5',\n",
    "                        'time_interval',\n",
    "                        'time_interval_hour',\n",
    "                        'speed_kmh',\n",
    "                        'start_timestamp',\n",
    "                        'end_timestamp',\n",
    "                        'min_speed',\n",
    "                        'avg_speed',\n",
    "                        'max_speed',\n",
    "                        col('sum_distance').alias('distance'),\n",
    "                        'movement_coordinates'\n",
    "                    ])\\\n",
    "                    .dropDuplicates(['mmsi','start_timestamp', 'end_timestamp'])\n",
    "  \n",
    "ais_04_movement.show(10)"
   ]
  },
  {
   "cell_type": "code",
   "execution_count": 15,
   "id": "04f64fdf-f4ba-4a1f-ad34-f39a0d45831b",
   "metadata": {},
   "outputs": [
    {
     "data": {
      "text/plain": [
       "DataFrame[mmsi: int, timestamp: timestamp, lon: double, lat: double, vessel_name: string, vessel_type: string, vessel_type_main: string, vessel_type_sub: string, vessel_type_code: int, vessel_type_cargo: string, vessel_class: string, length: double, width: double, flag_country: string, destination: string, eta: int, source: string, name: string, port_id: string, lat_port: double, lon_port: double, iso2: string, H3_int_index_5: bigint, time_interval: double, time_interval_hour: double, speed_kmh: double, start_timestamp: timestamp, end_timestamp: timestamp, min_speed: double, avg_speed: double, max_speed: double, distance: double, movement_coordinates: array<array<double>>]"
      ]
     },
     "execution_count": 15,
     "metadata": {},
     "output_type": "execute_result"
    }
   ],
   "source": [
    "ais_04_movement.cache()"
   ]
  },
  {
   "cell_type": "code",
   "execution_count": 16,
   "id": "340dfcae-f186-44e7-8572-57f747b27e14",
   "metadata": {},
   "outputs": [
    {
     "name": "stdout",
     "output_type": "stream",
     "text": [
      "+---------+-------------------+------------------+------------------+-----------------+-------------+----------------+---------------+----------------+-----------------+------------+------+-----+------------+-----------+-------+------+----------+---------+--------+--------+----+------------------+-------------+------------------+---------+-------------------+-------------------+---------+--------------------+---------+-----------------+--------------------+-------------------+-------------------+--------------------+-------------------+-----------------+------------------+---------------+------------+-----------------+\n",
      "|     mmsi|          timestamp|               lon|               lat|      vessel_name|  vessel_type|vessel_type_main|vessel_type_sub|vessel_type_code|vessel_type_cargo|vessel_class|length|width|flag_country|destination|    eta|source|      name|  port_id|lat_port|lon_port|iso2|    H3_int_index_5|time_interval|time_interval_hour|speed_kmh|    start_timestamp|      end_timestamp|min_speed|           avg_speed|max_speed|         distance|movement_coordinates|lag_start_timestamp|  lag_end_timestamp|lead_start_timestamp| lead_end_timestamp|lag_time_interval|lead_time_interval|shipping_status|shipping_gap|shipping_movement|\n",
      "+---------+-------------------+------------------+------------------+-----------------+-------------+----------------+---------------+----------------+-----------------+------------+------+-----+------------+-----------+-------+------+----------+---------+--------+--------+----+------------------+-------------+------------------+---------+-------------------+-------------------+---------+--------------------+---------+-----------------+--------------------+-------------------+-------------------+--------------------+-------------------+-----------------+------------------+---------------+------------+-----------------+\n",
      "|      148|2021-01-01 03:42:40|12.606153333333332| 55.68468833333333|SS MARTHA STEWART|Not Available|            null|           null|            null|             null|           A|  10.0|  5.0|        null|       HOME|   2460| T-AIS| KÖPENHAMN|     4305|55.68332| 12.5899|  dk|599524487238516735|         null|              null|     null|2021-01-01 03:42:40|2021-06-11 02:32:28|      0.0|0.005425330812854...|     0.15|6.469999999999939|[[12.606153333333...|               null|               null|                null|               null|             null|              null|              0|           1|                1|\n",
      "|  1344478|2021-06-07 16:12:29|19.069793333333333| 59.71906666666667|      UNAVAILABLE|  UNAVAILABLE|            null|           null|            null|             null|           A|  null| null|        null|       null|   2460| T-AIS|KAPELLSKÄR|    98120|59.71787|19.06685|  se|599128471926472703|         null|              null|     null|2021-06-07 16:12:29|2021-06-07 16:12:29|     null|                null|     null|             null|[[19.069793333333...|               null|               null|                null|               null|             null|              null|              0|           1|                1|\n",
      "|205554000|2021-06-25 13:54:11|       24.23327667|          37.30655|   MINERAL NINGBO|        Cargo|    Bulk Carrier|           null|              70|             null|           A| 292.0| 45.0|     Belgium| DARDANELLD|6260700| T-AIS|      null|     null|    null|    null|null|600095030694117375|         null|              null|     null|2021-06-25 13:54:11|2021-06-27 08:38:01|    10.56|               16.23|     21.9|           509.62|[[24.23327667, 37...|               null|               null| 2021-06-27 13:36:13|2021-06-27 13:36:13|             null|           17892.0|              0|           1|                1|\n",
      "|205554000|2021-06-27 13:36:13|       28.97702333|       40.93833167|   MINERAL NINGBO|        Cargo|    Bulk Carrier|           null|              70|             null|           A| 292.0| 45.0|     Belgium|   BOSPORUS|6271400| T-AIS|   Maltepe|wfp.16448|40.94778|29.10295|  tr|599520329710174207|         null|              null|     null|2021-06-27 13:36:13|2021-06-27 13:36:13|     null|                null|     null|             null|[[28.97702333, 40...|2021-06-25 13:54:11|2021-06-27 08:38:01| 2021-06-27 23:40:12|2021-06-30 07:25:17|          17892.0|           36239.0|              0|           1|                2|\n",
      "|205554000|2021-06-27 23:40:12|       30.75528167|       42.08638667|   MINERAL NINGBO|        Cargo|    Bulk Carrier|           null|              70|             null|           A| 292.0| 45.0|     Belgium|      TAMAN|6291700| T-AIS|      null|     null|    null|    null|null|599772776076673023|         null|              null|     null|2021-06-27 23:40:12|2021-06-30 07:25:17|     0.06|               7.554|    15.27|595.0699999999999|[[30.75528167, 42...|2021-06-27 13:36:13|2021-06-27 13:36:13|                null|               null|          36239.0|              null|              0|           1|                3|\n",
      "|207828950|2021-02-17 11:30:32|27.895488333333333|43.196178333333336|            DIANA|      Fishing|            null|           null|            null|             null|           B|  13.0|  3.0|    Bulgaria|       null|   2460| T-AIS|     Varna|wfp.15505|43.19695|27.91235|  bg|599522715564507135|         null|              null|     null|2021-02-17 11:30:32|2021-02-24 18:42:05|      0.0|                 0.0|      0.0|              0.0|[[27.895488333333...|               null|               null| 2021-02-24 22:14:37|2021-02-24 22:14:37|             null|           12752.0|              0|           1|                1|\n",
      "|207828950|2021-02-24 22:14:37| 28.22679833333333| 43.28186333333333|            DIANA|      Fishing|            null|           null|            null|             null|           B|  13.0|  3.0|    Bulgaria|       null|   2460| T-AIS|      null|     null|    null|    null|null|599522714490765311|         null|              null|     null|2021-02-24 22:14:37|2021-02-24 22:14:37|     null|                null|     null|             null|[[28.226798333333...|2021-02-17 11:30:32|2021-02-24 18:42:05| 2021-02-27 23:47:03|2021-03-07 01:18:14|          12752.0|          264746.0|              0|           1|                2|\n",
      "|207828950|2021-02-27 23:47:03| 27.89549833333333|43.196171666666665|            DIANA|      Fishing|            null|           null|            null|             null|           B|  13.0|  3.0|    Bulgaria|       null|   2460| T-AIS|     Varna|wfp.15505|43.19695|27.91235|  bg|599522715564507135|         null|              null|     null|2021-02-27 23:47:03|2021-03-07 01:18:14|      0.0|0.014000000000000002|     0.05|              0.3|[[27.895498333333...|2021-02-24 22:14:37|2021-02-24 22:14:37| 2021-03-08 04:41:08|2021-03-08 04:41:08|         264746.0|           98574.0|              0|           1|                3|\n",
      "|207828950|2021-03-08 04:41:08| 28.29973333333333| 43.25185666666667|            DIANA|      Fishing|            null|           null|            null|             null|           B|  13.0|  3.0|    Bulgaria|       null|   2460| T-AIS|      null|     null|    null|    null|null|599522714490765311|         null|              null|     null|2021-03-08 04:41:08|2021-03-08 04:41:08|     null|                null|     null|             null|[[28.299733333333...|2021-02-27 23:47:03|2021-03-07 01:18:14| 2021-03-08 14:27:24|2021-03-19 06:42:34|          98574.0|           35176.0|              0|           1|                4|\n",
      "|207828950|2021-03-08 14:27:24|28.225236666666667|          43.20274|            DIANA|      Fishing|            null|           null|            null|             null|           B|  13.0|  3.0|    Bulgaria|       null|   2460| T-AIS|     Varna|wfp.15505|43.19695|27.91235|  bg|599522709122056191|         null|              null|     null|2021-03-08 14:27:24|2021-03-19 06:42:34|      0.0|  1.6700000000000002|     4.17|70.92999999999999|[[28.225236666666...|2021-03-08 04:41:08|2021-03-08 04:41:08| 2021-03-19 10:07:52|2021-03-19 10:07:52|          35176.0|           12318.0|              0|           1|                5|\n",
      "+---------+-------------------+------------------+------------------+-----------------+-------------+----------------+---------------+----------------+-----------------+------------+------+-----+------------+-----------+-------+------+----------+---------+--------+--------+----+------------------+-------------+------------------+---------+-------------------+-------------------+---------+--------------------+---------+-----------------+--------------------+-------------------+-------------------+--------------------+-------------------+-----------------+------------------+---------------+------------+-----------------+\n",
      "only showing top 10 rows\n",
      "\n",
      "CPU times: user 23.5 ms, sys: 1.52 ms, total: 25 ms\n",
      "Wall time: 2.45 s\n"
     ]
    }
   ],
   "source": [
    "%%time\n",
    "\n",
    "# CPU times: user 20.3 ms, sys: 4.21 ms, total: 24.5 ms\n",
    "# Wall time: 2.51 s\n",
    "\n",
    "part5 = Window.partitionBy('mmsi').orderBy(['start_timestamp'])\n",
    "part6 = Window.partitionBy('mmsi').orderBy(['start_timestamp']).rowsBetween(Window.unboundedPreceding, Window.currentRow)\n",
    "\n",
    "ais_05_shipping = ais_04_movement\\\n",
    "                    .withColumn('lag_start_timestamp', f.lag('start_timestamp').over(part5) )\\\n",
    "                    .withColumn('lag_end_timestamp', f.lag('end_timestamp').over(part5) )\\\n",
    "                    .withColumn('lead_start_timestamp', f.lead('start_timestamp').over(part5) )\\\n",
    "                    .withColumn('lead_end_timestamp', f.lead('end_timestamp').over(part5) )\\\n",
    "                    .withColumn('lag_time_interval', f.to_timestamp(col('start_timestamp')).cast('double') - f.to_timestamp(col('lag_end_timestamp')).cast('double')  )\\\n",
    "                    .withColumn('lead_time_interval', f.to_timestamp(col('lead_start_timestamp')).cast('double') - f.to_timestamp(col('end_timestamp')).cast('double')  )\\\n",
    "                    .withColumn('shipping_status', when( col('lag_time_interval').isNull(), 0 )\\\n",
    "                                                    .when( col('lag_time_interval') > 10000, 0 )\\\n",
    "                                                    .when( col('lead_time_interval').isNull(), 2 )\\\n",
    "                                                    .when( col('lead_time_interval') > 10000, 2 ).otherwise(1) )\\\n",
    "                    .withColumn('shipping_gap', when( col('shipping_status') == 0, 1).otherwise(0) )\\\n",
    "                    .withColumn('shipping_movement', f.sum('shipping_gap').over(part6) )\n",
    "\n",
    "ais_05_shipping.show(10)"
   ]
  },
  {
   "cell_type": "code",
   "execution_count": 18,
   "id": "d7052250-b1ee-4aa6-8942-f510a29421ed",
   "metadata": {},
   "outputs": [
    {
     "data": {
      "text/plain": [
       "DataFrame[mmsi: int, timestamp: timestamp, lon: double, lat: double, vessel_name: string, vessel_type: string, vessel_type_main: string, vessel_type_sub: string, vessel_type_code: int, vessel_type_cargo: string, vessel_class: string, length: double, width: double, flag_country: string, destination: string, eta: int, source: string, name: string, port_id: string, lat_port: double, lon_port: double, iso2: string, H3_int_index_5: bigint, time_interval: double, time_interval_hour: double, speed_kmh: double, start_timestamp: timestamp, end_timestamp: timestamp, min_speed: double, avg_speed: double, max_speed: double, distance: double, movement_coordinates: array<array<double>>, lag_start_timestamp: timestamp, lag_end_timestamp: timestamp, lead_start_timestamp: timestamp, lead_end_timestamp: timestamp, lag_time_interval: double, lead_time_interval: double, shipping_status: int, shipping_gap: int, shipping_movement: bigint]"
      ]
     },
     "execution_count": 18,
     "metadata": {},
     "output_type": "execute_result"
    }
   ],
   "source": [
    "ais_05_shipping.cache()"
   ]
  },
  {
   "cell_type": "code",
   "execution_count": null,
   "id": "544949aa-4bb5-4112-b68a-8a39b1e6f76f",
   "metadata": {},
   "outputs": [],
   "source": [
    "# write as parquet to s3\n",
    "# ais_05_shipping.repartition(1).write.mode('overwrite').parquet(SAVEPATH+\"RESULT_ais_05_shipping_005_202201_202206a.parquet\")"
   ]
  },
  {
   "cell_type": "code",
   "execution_count": null,
   "id": "b8f03541-e7a4-420e-9fae-625e0d4a3947",
   "metadata": {},
   "outputs": [
    {
     "name": "stdout",
     "output_type": "stream",
     "text": [
      "+---------+-------------------+------------------+------------------+-------------+--------------+----------------+---------------+----------------+-----------------+------------+------+-----+------------+-----------------+-------+------+-----------------+---------+--------+--------+----+------------------+-------------+------------------+---------+-------------------+-------------------+---------+-------------------+---------+--------+--------------------+-------------------+-------------------+--------------------+-------------------+-----------------+------------------+---------------+------------+-----------------+-----------+-------------------+-------------------+--------------+-----------------+-------------------+-------------------+---------------------+------------------------+\n",
      "|     mmsi|          timestamp|               lon|               lat|  vessel_name|   vessel_type|vessel_type_main|vessel_type_sub|vessel_type_code|vessel_type_cargo|vessel_class|length|width|flag_country|      destination|    eta|source|             name|  port_id|lat_port|lon_port|iso2|    H3_int_index_5|time_interval|time_interval_hour|speed_kmh|    start_timestamp|      end_timestamp|min_speed|          avg_speed|max_speed|distance|movement_coordinates|lag_start_timestamp|  lag_end_timestamp|lead_start_timestamp| lead_end_timestamp|lag_time_interval|lead_time_interval|shipping_status|shipping_gap|shipping_movement|id_shipping|         start_time|           end_time|origin_port_id| origin_port_name|origin_country_iso2|destination_port_id|destination_port_name|destination_country_iso2|\n",
      "+---------+-------------------+------------------+------------------+-------------+--------------+----------------+---------------+----------------+-----------------+------------+------+-----+------------+-----------------+-------+------+-----------------+---------+--------+--------+----+------------------+-------------+------------------+---------+-------------------+-------------------+---------+-------------------+---------+--------+--------------------+-------------------+-------------------+--------------------+-------------------+-----------------+------------------+---------------+------------+-----------------+-----------+-------------------+-------------------+--------------+-----------------+-------------------+-------------------+---------------------+------------------------+\n",
      "|111219508|2021-03-06 17:20:40|12.391748333333334| 55.53204333333333|  UNAVAILABLE|           SAR|            null|           null|            null|             null|           A|  20.0|  5.0|        null|SEARCH AND RESCUE|   2460| T-AIS|        KÖPENHAMN|     4305|55.68332| 12.5899|  dk|599524489386000383|         null|              null|     null|2021-03-06 17:20:40|2021-03-06 17:20:40|     null|               null|     null|    null|[[12.391748333333...|2021-02-05 15:37:39|2021-02-27 15:10:27| 2021-03-09 12:09:24|2021-03-09 12:09:24|         612613.0|          240524.0|              0|           1|                2| 1112195082|2021-03-06 17:20:40|2021-03-06 17:20:40|          4305|        KÖPENHAMN|                 dk|               4305|            KÖPENHAMN|                      dk|\n",
      "|111219514|2021-01-14 14:57:09|10.477093333333332|          56.91076|        M 514|           SAR|            null|           null|            null|             null|           A|  20.0|  5.0|        null|SEARCH AND RESCUE|   2460| T-AIS|             null|     null|    null|    null|null|599526360917999615|         null|              null|     null|2021-01-14 14:57:09|2021-01-31 11:16:18|      0.0| 0.5666666666666668|     0.91|   283.3|[[10.477093333333...|               null|               null|                null|               null|             null|              null|              0|           1|                1| 1112195141|2021-01-14 14:57:09|2021-01-31 11:16:18|          null|             null|               null|               null|                 null|                    null|\n",
      "|111219515|2021-01-06 15:50:06| 9.129228333333334|57.376801666666665|  UNAVAILABLE|   UNAVAILABLE|            null|           null|            null|             null|           A|  20.0|  5.0|        null|SEARCH AND RESCUE|   2460| T-AIS|             null|     null|    null|    null|null|599526637943390207|         null|              null|     null|2021-01-06 15:50:06|2021-06-07 10:53:37|      0.0| 14.916774193548383|   121.43| 2537.58|[[9.1292283333333...|2021-01-05 15:11:00|2021-01-05 15:11:00|                null|               null|          88746.0|              null|              0|           1|                2| 1112195152|2021-01-06 15:50:06|2021-06-07 10:53:37|          null|             null|               null|               null|                 null|                    null|\n",
      "|111265583|2021-03-20 10:32:51|         18.982025|          59.68645|LIFEGUARD 003|           SAR|            null|           null|            null|             null|           A|   0.0|  0.0|        null|             null|   2460| T-AIS|       KAPELLSKÄR|    98120|59.71787|19.06685|  se|599128471926472703|         null|              null|     null|2021-03-20 10:32:51|2021-05-06 15:10:45|      0.0|              0.078|     0.35|   45.53|[[18.982025, 59.6...|2021-03-04 19:03:44|2021-03-04 19:03:44| 2021-05-24 10:03:36|2021-05-24 10:03:36|        1351747.0|         1536771.0|              0|           1|                2| 1112655832|2021-03-20 10:32:51|2021-05-06 15:10:45|         98120|       KAPELLSKÄR|                 se|              98120|           KAPELLSKÄR|                      se|\n",
      "|111265585|2021-04-12 12:14:30|          18.33777| 57.65861833333334|LIFEGUARD 005|           SAR|            null|           null|            null|             null|           A|   0.0|  0.0|        null|             null|   2460| T-AIS|            VISBY|       88| 57.6323| 18.2823|  se|599129840947298303|         null|              null|     null|2021-04-12 12:14:30|2021-04-13 17:43:30|      0.0|                0.0|      0.0|    0.01|[[18.33777, 57.65...|2021-01-21 13:53:53|2021-03-30 19:24:30| 2021-05-11 20:04:30|2021-05-11 20:04:30|        1097400.0|         2427660.0|              0|           1|                3| 1112655853|2021-04-12 12:14:30|2021-04-13 17:43:30|            88|            VISBY|                 se|                 88|                VISBY|                      se|\n",
      "|155017179|2021-05-10 15:11:54|23.669001666666663|          37.93805|        0.C.D|Pleasure Craft|            null|           null|            null|             null|           B|  16.0|  4.0|        null|             null|   2460| T-AIS|          Eleusis|wfp.14332|38.04274|23.51074|  gr|599521529079791615|         null|              null|     null|2021-05-10 15:11:54|2021-06-04 11:33:57|      0.0|0.05977777777777778|     2.03|    33.4|[[23.669001666666...|2021-04-27 15:09:10|2021-05-10 03:45:17| 2021-06-04 21:48:46|2021-06-06 02:23:07|          41197.0|           36889.0|              0|           1|                3| 1550171793|2021-05-10 15:11:54|2021-06-04 11:33:57|     wfp.14332|          Eleusis|                 gr|          wfp.14332|              Eleusis|                      gr|\n",
      "|201000128|2021-06-20 22:11:14|             18.41|       42.07833333|        AUCLA|       Fishing|            null|           null|              30|             null|           A|  26.0|  6.0|     Albania|             null|   2460| S-AIS|             null|     null|    null|    null|null|599516216205246463|         null|              null|     null|2021-06-20 22:11:14|2021-06-21 20:32:11|     0.44|               3.31|     4.81|   69.53|[[18.41, 42.07833...|2021-06-20 18:31:09|2021-06-20 18:31:09| 2021-06-22 00:29:15|2021-06-22 00:29:15|          13205.0|           14224.0|              0|           1|                8| 2010001288|2021-06-20 22:11:14|2021-06-21 20:32:11|          null|             null|               null|               null|                 null|                    null|\n",
      "|201100124|2021-03-19 00:53:57|24.160456666666665| 37.65018833333333|      RAFAELO|   UNAVAILABLE|            null|           null|            null|             null|           A|   0.0|  0.0|     Albania|         TSINGELI|3192000| T-AIS|Lavrion (Laurium)|wfp.17356|37.71262|24.06292|  gr|600095065053855743|         null|              null|     null|2021-03-19 00:53:57|2021-03-19 01:35:47|    15.73|              15.73|    15.73|   10.97|[[24.160456666666...|2021-03-17 00:45:30|2021-03-17 03:34:30| 2021-03-19 06:51:05|2021-03-19 06:51:05|         163167.0|           18918.0|              0|           1|               14|20110012414|2021-03-19 00:53:57|2021-03-19 01:35:47|     wfp.17356|Lavrion (Laurium)|                 gr|          wfp.17356|    Lavrion (Laurium)|                      gr|\n",
      "|201100124|2021-01-11 19:21:11|         23.254705| 37.86523833333333|      RAFAELO|   UNAVAILABLE|            null|           null|            null|             null|           A|   0.0|  0.0|     Albania|         TSINGELI|1131400| T-AIS|          Isthmia|wfp.14651|37.91645|23.00835|  gr|599521518342373375|         null|              null|     null|2021-01-11 19:21:11|2021-01-11 19:21:11|     null|               null|     null|    null|[[23.254705, 37.8...|2021-01-10 02:38:13|2021-01-10 06:32:11| 2021-01-11 20:02:29|2021-01-11 20:02:29|         132540.0|            2478.0|              0|           1|                2| 2011001242|2021-01-11 19:21:11|2021-01-11 20:02:29|     wfp.14651|          Isthmia|                 gr|          wfp.16607|               Megara|                      gr|\n",
      "|201100124|2021-01-11 20:02:29|23.382416666666668|37.848061666666666|      RAFAELO|   UNAVAILABLE|            null|           null|            null|             null|           A|   0.0|  0.0|     Albania|         TSINGELI|1122330| T-AIS|           Megara|wfp.16607|37.98237|23.35346|  gr|599521530153533439|         null|              null|     null|2021-01-11 20:02:29|2021-01-11 20:02:29|     null|               null|     null|    null|[[23.382416666666...|2021-01-11 19:21:11|2021-01-11 19:21:11| 2021-01-21 01:47:30|2021-01-21 01:47:30|           2478.0|          798301.0|              2|           0|                2| 2011001242|2021-01-11 19:21:11|2021-01-11 20:02:29|     wfp.14651|          Isthmia|                 gr|          wfp.16607|               Megara|                      gr|\n",
      "+---------+-------------------+------------------+------------------+-------------+--------------+----------------+---------------+----------------+-----------------+------------+------+-----+------------+-----------------+-------+------+-----------------+---------+--------+--------+----+------------------+-------------+------------------+---------+-------------------+-------------------+---------+-------------------+---------+--------+--------------------+-------------------+-------------------+--------------------+-------------------+-----------------+------------------+---------------+------------+-----------------+-----------+-------------------+-------------------+--------------+-----------------+-------------------+-------------------+---------------------+------------------------+\n",
      "only showing top 10 rows\n",
      "\n",
      "CPU times: user 40.8 ms, sys: 8.83 ms, total: 49.6 ms\n",
      "Wall time: 2min 37s\n"
     ]
    }
   ],
   "source": [
    "%%time\n",
    "\n",
    "# CPU times: user 47.9 ms, sys: 15.1 ms, total: 62.9 ms\n",
    "# Wall time: 2min 40s\n",
    "\n",
    "part7 = Window.partitionBy('id_shipping')\n",
    "\n",
    "ais_06_shipping = ais_05_shipping\\\n",
    "                    .withColumn('id_shipping', f.concat('mmsi','shipping_movement'))\\\n",
    "                    .withColumn('start_time', f.first('start_timestamp').over(part7))\\\n",
    "                    .withColumn('end_time', f.last('end_timestamp').over(part7))\\\n",
    "                    .withColumn('origin_port_id', f.first('port_id',ignorenulls=True).over(part7) )\\\n",
    "                    .withColumn('origin_port_name', f.first('name',ignorenulls=True).over(part7) )\\\n",
    "                    .withColumn('origin_country_iso2', f.first('iso2',ignorenulls=True).over(part7) )\\\n",
    "                    .withColumn('destination_port_id', f.last('port_id',ignorenulls=True).over(part7) )\\\n",
    "                    .withColumn('destination_port_name', f.last('name',ignorenulls=True).over(part7) )\\\n",
    "                    .withColumn('destination_country_iso2', f.last('iso2',ignorenulls=True).over(part7) )\n",
    "\n",
    "ais_06_shipping.show(10)"
   ]
  },
  {
   "cell_type": "code",
   "execution_count": 20,
   "id": "015eb911-a8a5-4733-b5dd-7c52a1efe96e",
   "metadata": {},
   "outputs": [
    {
     "name": "stdout",
     "output_type": "stream",
     "text": [
      "+-----------+---------+-------------+--------------+----------------+---------------+----------------+-----------------+------------+------+-----+------------+-----------------+-------+------+-------------------+-------------------+--------------------+--------------+-----------------+-------------------+-------------------+---------------------+------------------------+-------------------+--------+---------------+\n",
      "|id_shipping|     mmsi|  vessel_name|   vessel_type|vessel_type_main|vessel_type_sub|vessel_type_code|vessel_type_cargo|vessel_class|length|width|flag_country|      destination|    eta|source|         start_time|           end_time|           movements|origin_port_id| origin_port_name|origin_country_iso2|destination_port_id|destination_port_name|destination_country_iso2|          avg_speed|distance|is_imputed_port|\n",
      "+-----------+---------+-------------+--------------+----------------+---------------+----------------+-----------------+------------+------+-----+------------+-----------------+-------+------+-------------------+-------------------+--------------------+--------------+-----------------+-------------------+-------------------+---------------------+------------------------+-------------------+--------+---------------+\n",
      "| 1112195082|111219508|  UNAVAILABLE|           SAR|            null|           null|            null|             null|           A|  20.0|  5.0|        null|SEARCH AND RESCUE|   2460| T-AIS|2021-03-06 17:20:40|2021-03-06 17:20:40|[[12.391748333333...|          4305|        KÖPENHAMN|                 dk|               4305|            KÖPENHAMN|                      dk|               null|    null|              0|\n",
      "| 1112195141|111219514|        M 514|           SAR|            null|           null|            null|             null|           A|  20.0|  5.0|        null|SEARCH AND RESCUE|   2460| T-AIS|2021-01-14 14:57:09|2021-01-31 11:16:18|[[10.477093333333...|          null|             null|               null|               null|                 null|                    null| 0.5666666666666668|   283.3|              1|\n",
      "| 1112195152|111219515|  UNAVAILABLE|   UNAVAILABLE|            null|           null|            null|             null|           A|  20.0|  5.0|        null|SEARCH AND RESCUE|   2460| T-AIS|2021-01-06 15:50:06|2021-06-07 10:53:37|[[9.1292283333333...|          null|             null|               null|               null|                 null|                    null| 14.916774193548383| 2537.58|              1|\n",
      "| 1112655832|111265583|LIFEGUARD 003|           SAR|            null|           null|            null|             null|           A|   0.0|  0.0|        null|             null|   2460| T-AIS|2021-03-20 10:32:51|2021-05-06 15:10:45|[[18.982025, 59.6...|         98120|       KAPELLSKÄR|                 se|              98120|           KAPELLSKÄR|                      se|              0.078|   45.53|              0|\n",
      "| 1112655853|111265585|LIFEGUARD 005|           SAR|            null|           null|            null|             null|           A|   0.0|  0.0|        null|             null|   2460| T-AIS|2021-04-12 12:14:30|2021-04-13 17:43:30|[[18.33777, 57.65...|            88|            VISBY|                 se|                 88|                VISBY|                      se|                0.0|    0.01|              0|\n",
      "| 1550171793|155017179|        0.C.D|Pleasure Craft|            null|           null|            null|             null|           B|  16.0|  4.0|        null|             null|   2460| T-AIS|2021-05-10 15:11:54|2021-06-04 11:33:57|[[23.669001666666...|     wfp.14332|          Eleusis|                 gr|          wfp.14332|              Eleusis|                      gr|0.05977777777777778|    33.4|              0|\n",
      "| 2010001288|201000128|        AUCLA|       Fishing|            null|           null|              30|             null|           A|  26.0|  6.0|     Albania|             null|   2460| S-AIS|2021-06-20 22:11:14|2021-06-21 20:32:11|[[18.41, 42.07833...|          null|             null|               null|               null|                 null|                    null|               3.31|   69.53|              1|\n",
      "|20110012414|201100124|      RAFAELO|   UNAVAILABLE|            null|           null|            null|             null|           A|   0.0|  0.0|     Albania|         TSINGELI|3192000| T-AIS|2021-03-19 00:53:57|2021-03-19 01:35:47|[[24.160456666666...|     wfp.17356|Lavrion (Laurium)|                 gr|          wfp.17356|    Lavrion (Laurium)|                      gr|              15.73|   10.97|              0|\n",
      "| 2011001242|201100124|      RAFAELO|   UNAVAILABLE|            null|           null|            null|             null|           A|   0.0|  0.0|     Albania|         TSINGELI|1131400| T-AIS|2021-01-11 19:21:11|2021-01-11 20:02:29|[[23.254705, 37.8...|     wfp.14651|          Isthmia|                 gr|          wfp.16607|               Megara|                      gr|               null|    null|              0|\n",
      "|20110012426|201100124|      RAFAELO|       Unknown|            null|           null|             100|             null|           A|   0.0|  0.0|     Albania|      IGOUMENITSA|6300700| T-AIS|2021-06-29 23:17:06|2021-06-30 21:10:04|[[19.32175, 40.53...|          null|             null|               null|               null|                 null|                    null|              7.955|  137.78|              1|\n",
      "+-----------+---------+-------------+--------------+----------------+---------------+----------------+-----------------+------------+------+-----+------------+-----------------+-------+------+-------------------+-------------------+--------------------+--------------+-----------------+-------------------+-------------------+---------------------+------------------------+-------------------+--------+---------------+\n",
      "only showing top 10 rows\n",
      "\n"
     ]
    }
   ],
   "source": [
    "\n",
    "part7 = Window.partitionBy('id_shipping')\n",
    "\n",
    "ais_06_shipping = ais_06_shipping\\\n",
    "                    .withColumn('avg_speed', f.avg('avg_speed').over(part7) )\\\n",
    "                    .withColumn('sum_distance', f.sum('distance').over(part7) )\\\n",
    "                    .withColumn('is_imputed_port', when( f.first('port_id').over(part7).isNull(), 1 ).when( f.last('port_id').over(part7).isNull(), 1 ).otherwise(0) )\\\n",
    "                    .withColumn('movements', f.flatten(f.collect_list('movement_coordinates').over(part7)) )\\\n",
    "                    .select([\n",
    "                        'id_shipping', 'mmsi', \n",
    "                        'vessel_name',\n",
    "                        'vessel_type',\n",
    "                        'vessel_type_main',\n",
    "                        'vessel_type_sub',\n",
    "                        'vessel_type_code',\n",
    "                        'vessel_type_cargo',\n",
    "                        'vessel_class',\n",
    "                        'length',\n",
    "                        'width',\n",
    "                        'flag_country',\n",
    "                        'destination',\n",
    "                        'eta',\n",
    "                        'source',\n",
    "                        'start_time', 'end_time', 'movements',\n",
    "                        'origin_port_id', 'origin_port_name', 'origin_country_iso2',\n",
    "                        'destination_port_id', 'destination_port_name', 'destination_country_iso2',\n",
    "                        'avg_speed', col('sum_distance').alias('distance'), 'is_imputed_port', \n",
    "                    ])\\\n",
    "                    .dropDuplicates(['id_shipping'])\n",
    "\n",
    "ais_06_shipping.show(10)"
   ]
  },
  {
   "cell_type": "code",
   "execution_count": 22,
   "id": "3974450d-bab4-4fd1-a1a5-f4c347f24905",
   "metadata": {},
   "outputs": [
    {
     "data": {
      "text/plain": [
       "DataFrame[id_shipping: string, mmsi: int, vessel_name: string, vessel_type: string, vessel_type_main: string, vessel_type_sub: string, vessel_type_code: int, vessel_type_cargo: string, vessel_class: string, length: double, width: double, flag_country: string, destination: string, eta: int, source: string, start_time: timestamp, end_time: timestamp, movements: array<array<double>>, origin_port_id: string, origin_port_name: string, origin_country_iso2: string, destination_port_id: string, destination_port_name: string, destination_country_iso2: string, avg_speed: double, distance: double, is_imputed_port: int]"
      ]
     },
     "execution_count": 22,
     "metadata": {},
     "output_type": "execute_result"
    }
   ],
   "source": [
    "ais_06_shipping.cache()"
   ]
  },
  {
   "cell_type": "code",
   "execution_count": 23,
   "id": "8935208f-9124-4a4c-a61c-c7eecb738896",
   "metadata": {},
   "outputs": [
    {
     "data": {
      "text/plain": [
       "459614"
      ]
     },
     "execution_count": 23,
     "metadata": {},
     "output_type": "execute_result"
    }
   ],
   "source": [
    "ais_06_shipping.count()"
   ]
  },
  {
   "cell_type": "code",
   "execution_count": 24,
   "id": "5a112b81-7f92-43c7-910c-620c77dfcd46",
   "metadata": {},
   "outputs": [],
   "source": [
    "# write as parquet to s3\n",
    "ais_06_shipping.repartition(1).write.mode('overwrite').parquet(SAVEPATH+\"RESULT_AIS_sample_baltic_0025_202101_202106.parquet\")"
   ]
  },
  {
   "cell_type": "code",
   "execution_count": 23,
   "id": "6411036c-f4ff-4f5b-a737-6f51af50f482",
   "metadata": {},
   "outputs": [
    {
     "name": "stdout",
     "output_type": "stream",
     "text": [
      "+-----------+---------+--------------------+--------------+------------------+---------------+----------------+--------------------+------------+------+-----+------------+---------------+--------+------+-------------------+-------------------+--------------------+--------------+-----------------+-------------------+-------------------+---------------------+------------------------+--------------------+------------------+---------------+\n",
      "|id_shipping|     mmsi|         vessel_name|   vessel_type|  vessel_type_main|vessel_type_sub|vessel_type_code|   vessel_type_cargo|vessel_class|length|width|flag_country|    destination|     eta|source|         start_time|           end_time|           movements|origin_port_id| origin_port_name|origin_country_iso2|destination_port_id|destination_port_name|destination_country_iso2|           avg_speed|          distance|is_imputed_port|\n",
      "+-----------+---------+--------------------+--------------+------------------+---------------+----------------+--------------------+------------+------+-----+------------+---------------+--------+------+-------------------+-------------------+--------------------+--------------+-----------------+-------------------+-------------------+---------------------+------------------------+--------------------+------------------+---------------+\n",
      "| 2010001442|201000144|                ARBI|       Fishing|              null|           null|              30|                null|           A|  22.0|  6.0|     Albania|           ARBA|    2460| S-AIS|2022-01-24 20:14:44|2022-01-25 09:42:49|[[19.58666667, 41...|     wfp.14869|         Shengjin|                 al|          wfp.14869|             Shengjin|                      al|                 0.0|               0.0|              0|\n",
      "|20110011510|201100115|           FROJDI II|         Cargo|General Cargo Ship|           null|              70|                null|           A|  75.0| 10.0|     Albania|         TR NEM| 3251900| S-AIS|2022-03-25 21:21:01|2022-03-27 16:23:46|[[26.89166667, 38...|     wfp.14973|           Aliaga|                 tr|          wfp.14973|               Aliaga|                      tr|0.047142857142857146|              2.96|              0|\n",
      "|20110012454|201100124|             RAFAELO|         Cargo|              null|           null|              70|                null|           A|  89.0| 13.0|     Albania|DURRES P.ROMANO| 6281700| T-AIS|2022-06-25 06:14:45|2022-06-25 19:28:34|[[25.096485, 39.0...|     wfp.17356|Lavrion (Laurium)|                 gr|          wfp.17356|    Lavrion (Laurium)|                      gr|  13.668000000000001|            154.21|              1|\n",
      "| 2053152901|205315290|               LAGUZ|         Cargo|              null|           null|              79|No Additional Inf...|           A| 110.0| 11.0|     Belgium|    NEUFMAISONS|10191700| T-AIS|2022-05-26 07:55:52|2022-06-01 11:41:11|[[7.755675, 51.67...|          null|             null|               null|               null|                 null|                    null|0.007666666666666668|              2.37|              1|\n",
      "| 2053652902|205365290|            DIANTHUS|         Cargo|              null|           null|              79|No Additional Inf...|           A| 110.0| 12.0|     Belgium|   ANTWERPEN  5| 2180000| T-AIS|2022-04-27 14:13:44|2022-04-30 16:47:42|[[6.669625, 53.24...|          null|             null|               null|               null|                 null|                    null|               1.525|101.69000000000003|              1|\n",
      "| 2070080002|207008000|GEROITE NASEVASTOPOL|         Cargo|  Ro Ro Cargo Ship|           null|              70|                null|           A| 185.0| 26.0|    Bulgaria|           POTI| 6262030| T-AIS|2022-06-26 20:59:16|2022-06-29 14:47:24|[[41.61140167, 42...|     wfp.17094|             Poti|                 ge|          wfp.17094|                 Poti|                      ge|               0.085|              3.81|              0|\n",
      "|20701700026|207017000|             KENFORD|      Dredging|              null|           null|              33|                null|           A|  82.0| 14.0|    Bulgaria|         BURGAS| 1050700| T-AIS|2022-01-22 08:42:54|2022-01-22 08:42:54|[[27.62164333, 42...|     wfp.16608|           Burgas|                 bg|          wfp.16608|               Burgas|                      bg|                null|              null|              0|\n",
      "| 2070722253|207072225|          SV.AP.JOAN|         Cargo|              null|           null|              70|                null|           A|  80.0| 10.0|    Bulgaria|      CONSTANTA| 6251200| T-AIS|2022-06-22 05:03:49|2022-06-22 05:09:10|[[28.58306833, 45...|          null|             null|               null|               null|                 null|                    null|                 9.2|              0.82|              1|\n",
      "|20707226519|207072265|              EUROPA|           Tug|              null|           null|              52|                null|           A|  90.0| 11.0|    Bulgaria|           RUSE| 3181800| T-AIS|2022-03-14 09:16:26|2022-03-14 09:24:05|[[28.193175, 45.4...|     wfp.14866|           Braila|                 ro|          wfp.14866|               Braila|                      ro|                6.82|              0.87|              0|\n",
      "| 2070723332|207072333|               RIGEL|        Tanker|              null|           null|              80|                null|           A|  80.0|  9.0|    Bulgaria|      CONSTANTA| 5011900| T-AIS|2022-01-05 13:17:00|2022-01-08 09:14:49|[[28.61930833, 44...|     wfp.14575|         Basarabi|                 ro|          wfp.14575|             Basarabi|                      ro|  1.0241666666666667|              15.5|              0|\n",
      "| 2071380008|207138000|               PEACE|         Cargo|General Cargo Ship|           null|              77|                null|           A| 153.0| 22.0|    Bulgaria|      MNF\\ITALY| 1262100| T-AIS|2022-01-20 09:54:02|2022-01-20 09:54:02|[[36.97007667, 46...|     wfp.16881|        Berdyansk|                 ua|          wfp.16881|            Berdyansk|                      ua|                null|              null|              0|\n",
      "|20726120312|207261203|                AHIL|         Cargo|              null|           null|              79|No Additional Inf...|           A| 193.0| 23.0|    Bulgaria|           RUSE| 2111000| S-AIS|2022-02-11 02:42:05|2022-02-12 14:24:07|[[27.195, 44.115]...|     wfp.17380|         Silistra|                 bg|          wfp.17380|             Silistra|                      bg|                 0.0|               0.0|              0|\n",
      "| 2072612133|207261213|        NAJDEN KIROV|         Cargo|              null|           null|              79|No Additional Inf...|           A| 288.0| 23.0|    Bulgaria|   GIURGIULESTI| 5251200| T-AIS|2022-05-25 15:59:09|2022-06-05 10:15:11|[[28.10311167, 45...|     wfp.14761|             Reni|                 ua|          wfp.14866|               Braila|                      ro|   3.483030303030303| 43.63999999999999|              0|\n",
      "| 2073260008|207326000|              RUSANO|       Fishing|              null|           null|              30|                null|           A|  16.0|  5.0|    Bulgaria|           null|    2460| S-AIS|2022-05-30 16:49:31|2022-05-30 16:49:31|[[28.28166667, 43...|          null|             null|               null|               null|                 null|                    null|                null|              null|              1|\n",
      "|20742000030|207420000|              R/K 26|       Fishing|              null|           null|              30|                null|           A|  25.0|  7.0|    Bulgaria|           null|    2460| T-AIS|2022-04-11 02:49:13|2022-04-11 08:22:32|[[27.69119, 42.42...|     wfp.16608|           Burgas|                 bg|          wfp.16608|               Burgas|                      bg|                 0.0|              0.01|              0|\n",
      "|20742000044|207420000|              R/K 26|       Fishing|              null|           null|              30|                null|           A|  25.0|  7.0|    Bulgaria|           null|    2460| T-AIS|2022-06-20 10:02:10|2022-06-20 10:02:10|[[27.82417, 42.37...|          null|             null|               null|               null|                 null|                    null|                null|              null|              1|\n",
      "|20782257016|207822570|        SVETI NIKOLA|       Fishing|              null|           null|              30|                null|           A|  18.0|  6.0|    Bulgaria|           null|    2460| S-AIS|2022-05-04 07:42:40|2022-05-05 08:01:17|[[28.02166667, 42...|     wfp.14577|         Michurin|                 bg|          wfp.14577|             Michurin|                      bg|                0.05|              1.24|              0|\n",
      "| 2078247608|207824760|              ELECTA|       Fishing|              null|           null|              30|                null|           A|  17.0|  5.0|    Bulgaria|           null|    2460| S-AIS|2022-06-10 11:07:09|2022-06-10 11:07:09|[[28.14166667, 43...|     wfp.15505|            Varna|                 bg|          wfp.15505|                Varna|                      bg|                null|              null|              0|\n",
      "| 2078342801|207834280|            MARILISA|Pleasure Craft|              null|           null|              37|                null|           B|  10.0|  4.0|    Bulgaria|           null|    2460| T-AIS|2022-06-26 09:02:56|2022-06-26 10:29:50|[[27.491315, 42.5...|     wfp.16608|           Burgas|                 bg|          wfp.16608|               Burgas|                      bg|                5.28|              7.64|              0|\n",
      "| 2090480007|209048000|            CARMELIA|        Tanker|              null|           null|              80|                null|           A| 100.0| 18.0|      Cyprus|   HAIFA/ISRAEL| 1281300| T-AIS|2022-01-28 22:18:52|2022-01-30 18:40:45|[[35.01334, 32.88...|     wfp.16226|            Haifa|                 il|          wfp.16226|                Haifa|                      il|             0.27125|7.5600000000000005|              0|\n",
      "+-----------+---------+--------------------+--------------+------------------+---------------+----------------+--------------------+------------+------+-----+------------+---------------+--------+------+-------------------+-------------------+--------------------+--------------+-----------------+-------------------+-------------------+---------------------+------------------------+--------------------+------------------+---------------+\n",
      "only showing top 20 rows\n",
      "\n",
      "CPU times: user 3.88 ms, sys: 0 ns, total: 3.88 ms\n",
      "Wall time: 5.73 s\n"
     ]
    }
   ],
   "source": [
    "%%time \n",
    "\n",
    "# CPU times: user 4.06 ms, sys: 418 µs, total: 4.48 ms\n",
    "# Wall time: 10.7 s\n",
    "\n",
    "SAVEPATH = \"s3a://team-cedarsdata-582958291898-mvvpu/\"\n",
    "FILE = \"RESULT_AIS_sample_baltic_005_202201_202206.parquet\"\n",
    "result_ais = spark.read.parquet(SAVEPATH+FILE)\n",
    "result_ais.show()"
   ]
  },
  {
   "cell_type": "code",
   "execution_count": 27,
   "id": "b50489f8-4dc2-4914-bb2c-4ec2d445486d",
   "metadata": {},
   "outputs": [
    {
     "name": "stdout",
     "output_type": "stream",
     "text": [
      "+--------------+------+\n",
      "|origin_port_id|   top|\n",
      "+--------------+------+\n",
      "|          null|150918|\n",
      "|     wfp.17151| 24300|\n",
      "|     wfp.16140| 16978|\n",
      "|           111| 12109|\n",
      "|     wfp.14332|  9202|\n",
      "|     wfp.15678|  7607|\n",
      "|          4305|  7284|\n",
      "|          2321|  7078|\n",
      "|     wfp.14959|  6417|\n",
      "|     wfp.17356|  6017|\n",
      "+--------------+------+\n",
      "only showing top 10 rows\n",
      "\n"
     ]
    }
   ],
   "source": [
    "result_ais.groupby(['origin_port_id']).agg(f.count('*').alias('top')).sort('top', ascending=False).show(10)"
   ]
  },
  {
   "cell_type": "code",
   "execution_count": 31,
   "id": "ef4535ea-e4b3-4f00-b564-15ecfe59003a",
   "metadata": {},
   "outputs": [
    {
     "data": {
      "text/plain": [
       "29371"
      ]
     },
     "execution_count": 31,
     "metadata": {},
     "output_type": "execute_result"
    }
   ],
   "source": [
    "result_ais.filter(col('origin_port_id') != col('destination_port_id')).count()"
   ]
  },
  {
   "cell_type": "code",
   "execution_count": null,
   "id": "d0527000-8670-4e91-b81a-5927ccc9d8f2",
   "metadata": {},
   "outputs": [],
   "source": []
  }
 ],
 "metadata": {
  "kernelspec": {
   "display_name": "Config template cedarsdata",
   "language": "python3",
   "name": "cedarsdata"
  },
  "language_info": {
   "codemirror_mode": {
    "name": "ipython",
    "version": 3
   },
   "file_extension": ".py",
   "mimetype": "text/x-python",
   "name": "python",
   "nbconvert_exporter": "python",
   "pygments_lexer": "ipython3",
   "version": "3.8.8"
  }
 },
 "nbformat": 4,
 "nbformat_minor": 5
}
